{
 "cells": [
  {
   "cell_type": "code",
   "execution_count": 2,
   "metadata": {},
   "outputs": [
    {
     "name": "stderr",
     "output_type": "stream",
     "text": [
      "C:\\Users\\mmoud\\Anaconda3\\lib\\site-packages\\drawSvg\\raster.py:11: RuntimeWarning: CairoSVG will need to be installed to rasterize images: Install with `pip3 install cairosvg`\n",
      "  warnings.warn(msg, RuntimeWarning)\n"
     ]
    }
   ],
   "source": [
    "import numpy as np\n",
    "import drawSvg as draw\n",
    "from random import uniform\n",
    "import math"
   ]
  },
  {
   "cell_type": "code",
   "execution_count": 6,
   "metadata": {},
   "outputs": [
    {
     "data": {
      "image/svg+xml": [
       "<?xml version=\"1.0\" encoding=\"UTF-8\"?>\n",
       "<svg xmlns=\"http://www.w3.org/2000/svg\" xmlns:xlink=\"http://www.w3.org/1999/xlink\"\n",
       "     width=\"300\" height=\"300\" viewBox=\"-150.0 -150.0 300 300\">\n",
       "<defs>\n",
       "</defs>\n",
       "<circle cx=\"0\" cy=\"0\" r=\"137.5\" fill=\"green\" />\n",
       "</svg>"
      ],
      "text/plain": [
       "<drawSvg.drawing.Drawing at 0x20074581898>"
      ]
     },
     "metadata": {},
     "output_type": "display_data"
    }
   ],
   "source": [
    "# draw a frame of the animation\n",
    "def draw_frame(r):\n",
    "    d = draw.Drawing(300, 300, origin='center')\n",
    "    d.append(draw.Circle(0, 0, r,\n",
    "            fill='green')) \n",
    "    \n",
    "    return d\n",
    "    \n",
    "#animation - pulsing cuicle \n",
    "r =0 \n",
    "s = 0 #starting radius\n",
    "R = 140 #stopping radius\n",
    "runs = 0 # counts number of full expansions and full contraction cycles\n",
    "sign =1 # direction of expansion(1) and contraction\n",
    "with draw.animate_jupyter(draw_frame,delay =0.05) as anim:\n",
    "    while runs<= 10: # what is my stopping critria\n",
    "        anim.draw_frame(r)\n",
    "        if (sign ==1): \n",
    "            r = r+2.5\n",
    "        else : \n",
    "            r = r-2.5\n",
    "        if r==R or r == s:\n",
    "            sign = sign*-1\n",
    "            runs +=1"
   ]
  },
  {
   "cell_type": "code",
   "execution_count": 20,
   "metadata": {},
   "outputs": [],
   "source": [
    "\n",
    "# Eye class,\n",
    "class Eye:\n",
    "    def __init__(self, x, y, rad, max_run = 10,color='blue'):\n",
    "        # eye position and size\n",
    "        self.x = x\n",
    "        self.y = y\n",
    "        self.rad = rad\n",
    "\n",
    "        # eye gaze direction\n",
    "        self.direction = 0 # not passed in\n",
    "        r =0 \n",
    "        self.s = rad#starting radius\n",
    "        R = 140 #stopping radius\n",
    "        self.runs = 0 # counts number of full expansions and full contraction cycles\n",
    "        self.sign =1 # direction of expansion(1) and contraction\n",
    "        self.max_run = max_run\n",
    "        # eye color\n",
    "        self.color = color\n",
    "    def lookat(self, lx, ly):\n",
    "        self.direction = math.atan2(ly-self.y, lx-self.x) # move eye to look at (lx,ly)\\n\",\n",
    "\n",
    "    def drawEye(self):\n",
    "        # draw outer circle\n",
    "        D.append(draw.Circle(self.x, self.y, self.rad, fill='white', stroke='black'))\n",
    "        # draw inner circle\\n\",\n",
    "        ix = 0.4 * self.rad * math.cos(self.direction) + self.x\n",
    "        iy = 0.4 * self.rad * math.sin(self.direction) + self.y\n",
    "        D.append(draw.Circle(ix, iy, 0.5*self.rad, fill=self.color, stroke='black'))\n",
    "        return D\n",
    "        \n",
    "    def pulse(self):\n",
    "        #animation - pulsing cuicle \n",
    "     \n",
    "        with draw.animate_jupyter(self.drawEye,delay =0.05) as anim:\n",
    "            while runs<= self.max_run: # what is my stopping critria\n",
    "                anim.draw_frame(self.rad)\n",
    "                if (self.sign ==1): \n",
    "                    self.rad = self.rad+1\n",
    "                else : \n",
    "                    self.rad = self.rad-1\n",
    "                if self.rad==self.R or self.rad == self.s:\n",
    "                    self.sign = self.sign*-1\n",
    "                    self.runs +=1"
   ]
  },
  {
   "cell_type": "code",
   "execution_count": 21,
   "metadata": {},
   "outputs": [
    {
     "data": {
      "image/svg+xml": [
       "<?xml version=\"1.0\" encoding=\"UTF-8\"?>\n",
       "<svg xmlns=\"http://www.w3.org/2000/svg\" xmlns:xlink=\"http://www.w3.org/1999/xlink\"\n",
       "     width=\"200\" height=\"200\" viewBox=\"-100.0 -100.0 200 200\">\n",
       "<defs>\n",
       "</defs>\n",
       "<circle cx=\"50\" cy=\"-50\" r=\"20\" fill=\"white\" stroke=\"black\" />\n",
       "<circle cx=\"58.0\" cy=\"-50.0\" r=\"10.0\" fill=\"blue\" stroke=\"black\" />\n",
       "</svg>"
      ],
      "text/plain": [
       "<drawSvg.drawing.Drawing at 0x200745a1b00>"
      ]
     },
     "execution_count": 21,
     "metadata": {},
     "output_type": "execute_result"
    }
   ],
   "source": [
    "D = draw.Drawing(200, 200, origin='center') \n",
    "le = Eye(50,50,20)\n",
    "le.drawEye()\n",
    "le.pulse()\n",
    "D"
   ]
  },
  {
   "cell_type": "code",
   "execution_count": null,
   "metadata": {},
   "outputs": [],
   "source": []
  },
  {
   "cell_type": "markdown",
   "metadata": {},
   "source": [
    "### Face Class"
   ]
  },
  {
   "cell_type": "code",
   "execution_count": null,
   "metadata": {},
   "outputs": [],
   "source": [
    "# Face class\n",
    "class Face:\n",
    "    def __init__(self, x, y, size):\n",
    "        # face position and size\n",
    "        self.x = x\n",
    "        self.y = y\n",
    "        self.size = size\n",
    "  \n",
    "        # create eyes\\n\",\n",
    "        self.lefteye = Eye( x-40, y+50, 30 )\n",
    "        self.righteye = Eye( x+40, y+50, 30 )\n",
    "        \n",
    "    def lookat(self, lx, ly):\n",
    "        self.lefteye.lookat( lx, ly )\n",
    "        self.righteye.lookat( lx, ly )\t\n",
    "    def drawFace(self):\n",
    "        # draw face\n",
    "        D.append(draw.Circle(self.x, self.y, self.size, fill='white', stroke='black'))\n",
    "        # draw eyes\n",
    "        self.lefteye.drawEye()\n",
    "        self.righteye.drawEye()\n",
    "        \n",
    "        # draw nose\n",
    "        p = draw.Path(stroke='black', fill='white')\n",
    "        p.M(self.x+0,self.y+30)   # Start path \n",
    "        p.l(30,-30) # Draw line to next point\n",
    "        p.l(-30,0)  # Draw line to next point\n",
    "        D.append(p)\n",
    "        \n",
    "        # draw mouth\n",
    "        D.append(draw.Arc(self.x+0,self.y-30,40,180,0, stroke='black', fill='white'))\n",
    "    \n",
    "    #def expandContract(self):\n",
    "        "
   ]
  },
  {
   "cell_type": "code",
   "execution_count": 1,
   "metadata": {},
   "outputs": [
    {
     "ename": "NameError",
     "evalue": "name 'draw' is not defined",
     "output_type": "error",
     "traceback": [
      "\u001b[1;31m---------------------------------------------------------------------------\u001b[0m",
      "\u001b[1;31mNameError\u001b[0m                                 Traceback (most recent call last)",
      "\u001b[1;32m<ipython-input-1-5795a0b54e01>\u001b[0m in \u001b[0;36m<module>\u001b[1;34m\u001b[0m\n\u001b[1;32m----> 1\u001b[1;33m \u001b[0mD\u001b[0m \u001b[1;33m=\u001b[0m \u001b[0mdraw\u001b[0m\u001b[1;33m.\u001b[0m\u001b[0mDrawing\u001b[0m\u001b[1;33m(\u001b[0m\u001b[1;36m400\u001b[0m\u001b[1;33m,\u001b[0m \u001b[1;36m400\u001b[0m\u001b[1;33m,\u001b[0m \u001b[0morigin\u001b[0m\u001b[1;33m=\u001b[0m\u001b[1;34m'center'\u001b[0m\u001b[1;33m)\u001b[0m\u001b[1;33m\u001b[0m\u001b[1;33m\u001b[0m\u001b[0m\n\u001b[0m\u001b[0;32m      2\u001b[0m \u001b[0mf1\u001b[0m \u001b[1;33m=\u001b[0m \u001b[0mFace\u001b[0m\u001b[1;33m(\u001b[0m\u001b[1;36m0\u001b[0m\u001b[1;33m,\u001b[0m\u001b[1;36m0\u001b[0m\u001b[1;33m,\u001b[0m\u001b[1;36m100\u001b[0m\u001b[1;33m)\u001b[0m\u001b[1;33m\u001b[0m\u001b[1;33m\u001b[0m\u001b[0m\n\u001b[0;32m      3\u001b[0m \u001b[0mf1\u001b[0m\u001b[1;33m.\u001b[0m\u001b[0mdrawFace\u001b[0m\u001b[1;33m(\u001b[0m\u001b[1;33m)\u001b[0m\u001b[1;33m\u001b[0m\u001b[1;33m\u001b[0m\u001b[0m\n\u001b[0;32m      4\u001b[0m \u001b[0mD\u001b[0m\u001b[1;33m\u001b[0m\u001b[1;33m\u001b[0m\u001b[0m\n",
      "\u001b[1;31mNameError\u001b[0m: name 'draw' is not defined"
     ]
    }
   ],
   "source": [
    "D = draw.Drawing(400, 400, origin='center') \n",
    "f1 = Face(0,0,100)\n",
    "f1.drawFace()\n",
    "D"
   ]
  },
  {
   "cell_type": "code",
   "execution_count": null,
   "metadata": {},
   "outputs": [],
   "source": []
  },
  {
   "cell_type": "code",
   "execution_count": null,
   "metadata": {},
   "outputs": [],
   "source": [
    "\n",
    "class Crowd:\n",
    "    def __init__(self, N):\n",
    "        self.N = N\n",
    "        self.the_crowd = []\n",
    "        for i in range( 0, N ):\n",
    "            self.the_crowd.append( Face(uniform(-300,300), uniform(-300,300), 100) )\n",
    "        #self.lookat()\n",
    "    \n",
    "    def lookat(self):\n",
    "        for i in range( 0, self.N ):\n",
    "            self.the_crowd[i].lookat( uniform(-5000,5000), uniform(-5000,5000) )\n",
    "            \n",
    "    def draw(self):\n",
    "        for i in range( 0, self.N ):\n",
    "            self.the_crowd[i].drawFace()\n",
    " \n"
   ]
  },
  {
   "cell_type": "code",
   "execution_count": null,
   "metadata": {},
   "outputs": [],
   "source": [
    "  \n",
    "# draw crowd   \n",
    "D = draw.Drawing(800, 800, origin='center') # define drawing canvas\\n\",\n",
    "C = Crowd(35)\n",
    "C.draw()  \n",
    "D"
   ]
  },
  {
   "cell_type": "code",
   "execution_count": null,
   "metadata": {},
   "outputs": [],
   "source": []
  },
  {
   "cell_type": "code",
   "execution_count": null,
   "metadata": {},
   "outputs": [],
   "source": []
  },
  {
   "cell_type": "code",
   "execution_count": null,
   "metadata": {},
   "outputs": [],
   "source": []
  },
  {
   "cell_type": "code",
   "execution_count": null,
   "metadata": {},
   "outputs": [],
   "source": []
  },
  {
   "cell_type": "code",
   "execution_count": null,
   "metadata": {},
   "outputs": [],
   "source": []
  }
 ],
 "metadata": {
  "kernelspec": {
   "display_name": "Python 3",
   "language": "python",
   "name": "python3"
  },
  "language_info": {
   "codemirror_mode": {
    "name": "ipython",
    "version": 3
   },
   "file_extension": ".py",
   "mimetype": "text/x-python",
   "name": "python",
   "nbconvert_exporter": "python",
   "pygments_lexer": "ipython3",
   "version": "3.7.1"
  }
 },
 "nbformat": 4,
 "nbformat_minor": 2
}
