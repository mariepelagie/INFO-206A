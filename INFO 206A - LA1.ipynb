{
 "cells": [
  {
   "cell_type": "code",
   "execution_count": 1,
   "metadata": {},
   "outputs": [
    {
     "name": "stderr",
     "output_type": "stream",
     "text": [
      "C:\\Users\\mmoud\\Anaconda3\\lib\\site-packages\\drawSvg\\raster.py:11: RuntimeWarning: CairoSVG will need to be installed to rasterize images: Install with `pip3 install cairosvg`\n",
      "  warnings.warn(msg, RuntimeWarning)\n"
     ]
    }
   ],
   "source": [
    "import numpy as np\n",
    "import drawSvg as draw"
   ]
  },
  {
   "cell_type": "code",
   "execution_count": 2,
   "metadata": {},
   "outputs": [],
   "source": [
    "# define a graph node\n",
    "class GraphNode:\n",
    "    def __init__(self, adjacent, data):\n",
    "        self.data = data\n",
    "        self.adjacent = adjacent\n",
    "        \n",
    "    def is_leaf(self):\n",
    "        return( len(self.adjacent) == 0 )\n",
    "        \n",
    "    def __str__(self):\n",
    "        return( self.data )\n",
    "      \n"
   ]
  },
  {
   "cell_type": "code",
   "execution_count": 3,
   "metadata": {},
   "outputs": [],
   "source": [
    "# parse each line of the story file\n",
    "def parse_line(line):\n",
    "    #\n",
    "    # YOUR CODE HERE: parse \"line\" and populate three variables \"node_name\", \"adjacent_nodes\", and \"text\"\n",
    "    #\n",
    "    # use the split function on the \"|\" so as to divide line into 3 pieces in a list\n",
    "    node_name = line.split(\"|\")[0]  # first piece is name\n",
    "    adjacent_nodes =  line.split(\"|\")[1]\n",
    "    adjacent_nodes = adjacent_nodes.split(\",\") # further split along commas to separate adjacent nodes\n",
    "    text = line.split(\"|\")[-1]\n",
    "    \n",
    "    # add all except empty strings\n",
    "    adjacent = []\n",
    "    for a in adjacent_nodes:\n",
    "        if a:\n",
    "            adjacent.append(a.strip())\n",
    "\n",
    "    return( node_name, adjacent, text )\n",
    "\n"
   ]
  },
  {
   "cell_type": "code",
   "execution_count": 4,
   "metadata": {},
   "outputs": [],
   "source": [
    "# load the story from the raw-text file     \n",
    "def load_story(filename):\n",
    "    node_dict = {}\n",
    "    file = open(filename, \"r\")    \n",
    "    for l in file:\n",
    "        # if this is a line in the correct format:\n",
    "        if len(l.split(\"|\")) == 3:\n",
    "            node_name, adjacent_nodes, text = parse_line(l)   \n",
    "            node = GraphNode(adjacent_nodes, text)\n",
    "            node_dict[node_name] = node\n",
    "\n",
    "    file.close()\n",
    "    return( node_dict )\n",
    "\n"
   ]
  },
  {
   "cell_type": "code",
   "execution_count": 5,
   "metadata": {},
   "outputs": [],
   "source": [
    "# play the game\n",
    "def play_story(story_dict):    \n",
    "    story_node = story_dict[\"START\"]\n",
    "    print(story_node)\n",
    "\n",
    "    while not story_node.is_leaf():\n",
    "        #\n",
    "        # YOUR CODE HERE: get user input and convert ordingal (a,b,c) into an integer (0,1,2) called \"choice\"\n",
    "        #\n",
    "        \n",
    "        choice= input(\" Pick your poison. What happens next? choices a,b or c?\")\n",
    "        print(choice)\n",
    "        if choice == 'a':\n",
    "            choice =0\n",
    "        elif choice == 'b':\n",
    "            choice = 1\n",
    "        elif choice == 'c':\n",
    "            choice =2\n",
    "        else:\n",
    "            print(\"Invalid response. Please select either a , b or c values\")\n",
    "            print(choice)\n",
    "            \n",
    "        story_node = story_dict[ story_node.adjacent[choice] ]\n",
    "        print(story_node)\n",
    "\n",
    "    print(\"THE END\")\n",
    "\n"
   ]
  },
  {
   "cell_type": "code",
   "execution_count": null,
   "metadata": {},
   "outputs": [
    {
     "name": "stdout",
     "output_type": "stream",
     "text": [
      " A long time ago, somewhere in the Savannas of Africa, when all the animals could clearly communicate with each other there was a huge event.  What do you think happened ? a) There was a famine in the Animal Kingdom or b) A hurricane swept accross the land or c) A feast was declared in the Animal Kingdom\n",
      "\n",
      " Pick your poison. What happens next? choices a,b or c?a\n",
      "a\n",
      " There was no food in the land. The animals decide to a) seek council from cunning turtle b) mobilize animals to work in the fields or c)wait it out\n",
      "\n"
     ]
    }
   ],
   "source": [
    "story_dict = load_story(\"my_story.txt\") # load story\n",
    "play_story(story_dict) # play the game\n"
   ]
  },
  {
   "cell_type": "code",
   "execution_count": null,
   "metadata": {},
   "outputs": [],
   "source": []
  }
 ],
 "metadata": {
  "kernelspec": {
   "display_name": "Python 3",
   "language": "python",
   "name": "python3"
  },
  "language_info": {
   "codemirror_mode": {
    "name": "ipython",
    "version": 3
   },
   "file_extension": ".py",
   "mimetype": "text/x-python",
   "name": "python",
   "nbconvert_exporter": "python",
   "pygments_lexer": "ipython3",
   "version": "3.7.1"
  }
 },
 "nbformat": 4,
 "nbformat_minor": 2
}
