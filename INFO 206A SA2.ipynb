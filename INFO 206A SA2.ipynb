{
 "cells": [
  {
   "cell_type": "code",
   "execution_count": 2,
   "metadata": {},
   "outputs": [
    {
     "name": "stderr",
     "output_type": "stream",
     "text": [
      "C:\\Users\\mmoud\\Anaconda3\\lib\\site-packages\\drawSvg\\raster.py:11: RuntimeWarning: CairoSVG will need to be installed to rasterize images: Install with `pip3 install cairosvg`\n",
      "  warnings.warn(msg, RuntimeWarning)\n"
     ]
    }
   ],
   "source": [
    "import numpy as np\n",
    "import drawSvg as draw"
   ]
  },
  {
   "cell_type": "code",
   "execution_count": 138,
   "metadata": {},
   "outputs": [
    {
     "data": {
      "image/svg+xml": [
       "<?xml version=\"1.0\" encoding=\"UTF-8\"?>\n",
       "<svg xmlns=\"http://www.w3.org/2000/svg\" xmlns:xlink=\"http://www.w3.org/1999/xlink\"\n",
       "     width=\"400\" height=\"400\" viewBox=\"-200.0 -200.0 400 400\">\n",
       "<defs>\n",
       "</defs>\n",
       "<path d=\"M90,49 L190,-99\" fill=\"white\" stroke=\"red\" />\n",
       "<path d=\"M-100,-28 L-170,-139\" fill=\"white\" stroke=\"red\" />\n",
       "<path d=\"M90,49 L-170,-139\" fill=\"white\" stroke=\"#000000\" />\n",
       "<path d=\"M92.5,45.3 L-168.25,-136.225\" fill=\"white\" stroke=\"#030606\" />\n",
       "<path d=\"M95.0,41.6 L-166.5,-133.45\" fill=\"white\" stroke=\"#070c0c\" />\n",
       "<path d=\"M97.5,37.9 L-164.75,-130.675\" fill=\"white\" stroke=\"#0b1313\" />\n",
       "<path d=\"M100.0,34.2 L-163.0,-127.9\" fill=\"white\" stroke=\"#0f1919\" />\n",
       "<path d=\"M102.5,30.5 L-161.25,-125.125\" fill=\"white\" stroke=\"#121f1f\" />\n",
       "<path d=\"M105.0,26.8 L-159.5,-122.35\" fill=\"white\" stroke=\"#162626\" />\n",
       "<path d=\"M107.5,23.1 L-157.75,-119.57499999999999\" fill=\"white\" stroke=\"#1a2c2c\" />\n",
       "<path d=\"M110.0,19.400000000000002 L-156.0,-116.80000000000001\" fill=\"white\" stroke=\"#1d3232\" />\n",
       "<path d=\"M112.5,15.700000000000003 L-154.25,-114.025\" fill=\"white\" stroke=\"#213939\" />\n",
       "<path d=\"M115.0,12.000000000000007 L-152.5,-111.25\" fill=\"white\" stroke=\"#253f3f\" />\n",
       "<path d=\"M117.5,8.300000000000004 L-150.75,-108.47500000000001\" fill=\"white\" stroke=\"#294646\" />\n",
       "<path d=\"M120.0,4.600000000000001 L-149.0,-105.69999999999999\" fill=\"white\" stroke=\"#2d4c4c\" />\n",
       "<path d=\"M122.5,0.8999999999999986 L-147.25,-102.92500000000001\" fill=\"white\" stroke=\"#305252\" />\n",
       "<path d=\"M125.0,-2.8000000000000043 L-145.5,-100.14999999999999\" fill=\"white\" stroke=\"#345959\" />\n",
       "<path d=\"M127.5,-6.500000000000007 L-143.75,-97.375\" fill=\"white\" stroke=\"#385f5f\" />\n",
       "<path d=\"M130.0,-10.20000000000001 L-142.0,-94.59999999999998\" fill=\"white\" stroke=\"#3c6666\" />\n",
       "<path d=\"M132.5,-13.900000000000013 L-140.25,-91.82499999999999\" fill=\"white\" stroke=\"#3f6c6c\" />\n",
       "<path d=\"M135.0,-17.600000000000023 L-138.5,-89.04999999999998\" fill=\"white\" stroke=\"#437272\" />\n",
       "<path d=\"M137.5,-21.300000000000026 L-136.75,-86.27499999999999\" fill=\"white\" stroke=\"#477979\" />\n",
       "<path d=\"M140.0,-25.000000000000014 L-135.0,-83.49999999999999\" fill=\"white\" stroke=\"#4b7f7f\" />\n",
       "<path d=\"M142.5,-28.700000000000017 L-133.25,-80.725\" fill=\"white\" stroke=\"#4e8585\" />\n",
       "<path d=\"M145.0,-32.40000000000002 L-131.5,-77.94999999999999\" fill=\"white\" stroke=\"#528c8c\" />\n",
       "<path d=\"M147.5,-36.10000000000002 L-129.75,-75.17499999999998\" fill=\"white\" stroke=\"#569292\" />\n",
       "<path d=\"M150.00000000000003,-39.800000000000026 L-127.99999999999999,-72.39999999999998\" fill=\"white\" stroke=\"#5a9999\" />\n",
       "<path d=\"M152.50000000000003,-43.50000000000003 L-126.24999999999999,-69.62499999999997\" fill=\"white\" stroke=\"#5d9f9f\" />\n",
       "<path d=\"M155.00000000000003,-47.20000000000003 L-124.49999999999999,-66.84999999999997\" fill=\"white\" stroke=\"#61a5a5\" />\n",
       "<path d=\"M157.50000000000003,-50.900000000000034 L-122.74999999999999,-64.07499999999996\" fill=\"white\" stroke=\"#65acac\" />\n",
       "<path d=\"M160.00000000000003,-54.60000000000004 L-120.99999999999997,-61.29999999999997\" fill=\"white\" stroke=\"#69b2b2\" />\n",
       "<path d=\"M162.50000000000003,-58.30000000000004 L-119.24999999999997,-58.52499999999996\" fill=\"white\" stroke=\"#6cb8b8\" />\n",
       "<path d=\"M165.00000000000003,-62.00000000000004 L-117.49999999999997,-55.749999999999964\" fill=\"white\" stroke=\"#70bfbf\" />\n",
       "<path d=\"M167.50000000000003,-65.70000000000005 L-115.74999999999997,-52.97499999999996\" fill=\"white\" stroke=\"#74c5c5\" />\n",
       "<path d=\"M170.00000000000006,-69.40000000000006 L-113.99999999999997,-50.19999999999996\" fill=\"white\" stroke=\"#78cccc\" />\n",
       "<path d=\"M172.50000000000006,-73.10000000000007 L-112.24999999999997,-47.424999999999955\" fill=\"white\" stroke=\"#7bd2d2\" />\n",
       "<path d=\"M175.00000000000006,-76.80000000000007 L-110.49999999999997,-44.64999999999995\" fill=\"white\" stroke=\"#7fd8d8\" />\n",
       "<path d=\"M177.50000000000006,-80.50000000000006 L-108.74999999999997,-41.87499999999995\" fill=\"white\" stroke=\"#83dfdf\" />\n",
       "<path d=\"M180.00000000000006,-84.20000000000007 L-106.99999999999997,-39.09999999999995\" fill=\"white\" stroke=\"#87e5e5\" />\n",
       "<path d=\"M182.50000000000006,-87.90000000000006 L-105.24999999999997,-36.324999999999946\" fill=\"white\" stroke=\"#8aebeb\" />\n",
       "<path d=\"M185.00000000000006,-91.60000000000008 L-103.49999999999997,-33.54999999999994\" fill=\"white\" stroke=\"#8ef2f2\" />\n",
       "<path d=\"M187.50000000000006,-95.30000000000007 L-101.74999999999996,-30.77499999999994\" fill=\"white\" stroke=\"#92f8f8\" />\n",
       "<path d=\"M190.00000000000006,-99.00000000000006 L-99.99999999999997,-27.99999999999995\" fill=\"white\" stroke=\"#96ffff\" />\n",
       "</svg>"
      ],
      "text/plain": [
       "<drawSvg.drawing.Drawing at 0x23265b2ed30>"
      ]
     },
     "execution_count": 138,
     "metadata": {},
     "output_type": "execute_result"
    }
   ],
   "source": [
    "d = draw.Drawing(400, 400, origin='center')\n",
    "#define coordinates of the 2 sticks\n",
    "x1a = 90 #x coordinate of right stick - bottom right point, \n",
    "y1a = -49 #y coordinate of right stick - bottom right point,\n",
    "x1b = 190 #x coordinate of right stick - top right point,\n",
    "y1b = 99 #y coordinate of right stick - top right point,\n",
    "x2b= -170 #x coordinate of left stick - top left point,\n",
    "y2b= 139   #y coordinate of left stick - top left point,\n",
    "x2a=-100 #x coordinate of left stick - bottom left point,\n",
    "y2a= 28 #y coordinate of left stick - bottom left point,\n",
    "f = 0 # parameter that varies movement along the line\n",
    "\n",
    "## draw both sticks in red\n",
    "d.append(draw.Lines(x1a, y1a,\n",
    "                    x1b, y1b,\n",
    "                    close=False,\n",
    "            fill='white',\n",
    "            stroke='red')) \n",
    "\n",
    "d.append(draw.Lines(x2a, y2a,\n",
    "                    x2b, y2b,\n",
    "                    close=False,\n",
    "            fill='white',\n",
    "            stroke='red'))\n",
    "\n",
    "## for loop to create string configuration\n",
    "for i in range(41):\n",
    "    xinda = x1a + f * (x1b - x1a) # modified x and y coordinates that vary along right stick with f\n",
    "    yinda = y1a + f * (y1b - y1a)\n",
    "\n",
    "    xindb = x2a + (1-f) * (x2b - x2a) # modified x and y coordinates that vary along left stick with f\n",
    "    yindb = y2a + (1-f) * (y2b - y2a)\n",
    "    #varying colors on RGB scale with fraction f\n",
    "    col1 =150*f \n",
    "    col2 = 150 *f\n",
    "    col3 = 255*f\n",
    " \n",
    "    color = '#%02x%02x%02x' % (int(col1),int(col3),int(col3))\n",
    "    \n",
    "    \n",
    "    d.append(draw.Lines(xinda, yinda,\n",
    "                    xindb, yindb,\n",
    "                    close=False,\n",
    "            fill='white',\n",
    "            stroke=color)) #drawing the strings\n",
    "    \n",
    "    f= f+0.025\n",
    "    \n",
    "\n",
    "\n",
    "\n",
    "d"
   ]
  },
  {
   "cell_type": "code",
   "execution_count": null,
   "metadata": {},
   "outputs": [],
   "source": []
  }
 ],
 "metadata": {
  "kernelspec": {
   "display_name": "Python 3",
   "language": "python",
   "name": "python3"
  },
  "language_info": {
   "codemirror_mode": {
    "name": "ipython",
    "version": 3
   },
   "file_extension": ".py",
   "mimetype": "text/x-python",
   "name": "python",
   "nbconvert_exporter": "python",
   "pygments_lexer": "ipython3",
   "version": "3.7.1"
  }
 },
 "nbformat": 4,
 "nbformat_minor": 2
}
