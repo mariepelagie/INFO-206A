{
 "cells": [
  {
   "cell_type": "code",
   "execution_count": 1,
   "metadata": {},
   "outputs": [
    {
     "name": "stderr",
     "output_type": "stream",
     "text": [
      "C:\\Users\\mmoud\\Anaconda3\\lib\\site-packages\\drawSvg\\raster.py:11: RuntimeWarning: CairoSVG will need to be installed to rasterize images: Install with `pip3 install cairosvg`\n",
      "  warnings.warn(msg, RuntimeWarning)\n"
     ]
    }
   ],
   "source": [
    "import numpy as np\n",
    "import drawSvg as draw\n",
    "import math as m"
   ]
  },
  {
   "cell_type": "code",
   "execution_count": 9,
   "metadata": {},
   "outputs": [],
   "source": [
    "## Global Variables\n",
    "width = 400\n",
    "height = 400\n",
    "num_balls = 10\n",
    "rad = 10\n",
    "x =  np.random.uniform(-50,50,num_balls)\n",
    "y =  np.random.uniform(-5,5,num_balls)\n",
    "v_x = np.random.uniform(-5,5,num_balls)\n",
    "v_y = np.random.uniform(-5,5,num_balls)\n",
    "timestep =1"
   ]
  },
  {
   "cell_type": "code",
   "execution_count": 11,
   "metadata": {},
   "outputs": [],
   "source": [
    "def update_position(i): # updates position of ball i\n",
    "    # Boundary conditions to ensure ball bounces back into space\n",
    "    # look at four extreme corners((w/2,h/2),(-w/2,h/2),()) to ensure ball does not leave box\n",
    "    if x[i] >= (width/2)-(2*rad) or y[i] >= (height/2)-(2*rad): \n",
    "        # update velocity and position of ball i\n",
    "        v_x[i] = - v_x[i]\n",
    "        v_y[i] = - v_y[i]\n",
    "        x[i] = x[i] + timestep * v_x[i]\n",
    "        y[i] = y[i] + timestep * v_y[i]\n",
    "    \n",
    "    elif x[i] <= -(width/2)+(2*rad)  or y[i] <= -(height/2)+(2*rad): \n",
    "        v_x[i] = - v_x[i]\n",
    "        v_y[i] = - v_y[i]\n",
    "        x[i] = x[i] + timestep * v_x[i]\n",
    "        y[i] = y[i] + timestep * v_y[i]\n",
    "    else: \n",
    "        #v_x[i] = - v_x[i]\n",
    "        #v_y[i] = - v_y[i]\n",
    "        x[i] = x[i] + timestep * v_x[i]\n",
    "        y[i] = y[i] + timestep * v_y[i]\n",
    "        \n",
    "    for j in range(num_balls):\n",
    "        # Use distance between the centers of i and j are less than 1.5*rad to define collision\n",
    "        if m.sqrt(((x[i]-x[j])**2) +((y[i]-y[j])**2)) <= 1.5*rad and i!=j: ##collision criteria\n",
    "            # update velocity and position of ball i\n",
    "            v_x[i] = - v_x[i]\n",
    "            v_y[i] = - v_y[i]\n",
    "            x[i] = x[i] + timestep * v_x[i]\n",
    "            y[i] = y[i] + timestep * v_y[i] \n",
    "            # update velocity and position of ball j\n",
    "            v_x[j] = - v_x[j]\n",
    "            v_y[j] = - v_y[j]\n",
    "            x[j] = x[j] + timestep * v_x[j]\n",
    "            y[j] = y[j] + timestep * v_y[j] \n",
    "        \n",
    "    \n",
    "    return \n",
    "\n"
   ]
  },
  {
   "cell_type": "code",
   "execution_count": 3,
   "metadata": {},
   "outputs": [],
   "source": [
    "def draw_ball(i,D): # function draws ball for specific index and on canvas D\n",
    "    #D = draw.Drawing(width, height, origin='center' ) \n",
    "    D.append(draw.Circle(x[i], y[i], rad,\n",
    "            fill='green')) \n",
    "    return "
   ]
  },
  {
   "cell_type": "code",
   "execution_count": 4,
   "metadata": {},
   "outputs": [],
   "source": [
    "def draw_frame(): \n",
    "    D = draw.Drawing(width, height, origin='center' ) #draw canvas\n",
    "    D.append(draw.Rectangle(-width/2,-height/2,width,height, fill='black')) #creates black rectangle of appropriate dimensions\n",
    "    for i in range(num_balls): #loop through for each ball to update its position and draw it\n",
    "        update_position(i)\n",
    "        draw_ball(i,D)\n",
    "    return D\n",
    "        \n",
    "    "
   ]
  },
  {
   "cell_type": "code",
   "execution_count": 13,
   "metadata": {},
   "outputs": [
    {
     "data": {
      "image/svg+xml": [
       "<?xml version=\"1.0\" encoding=\"UTF-8\"?>\n",
       "<svg xmlns=\"http://www.w3.org/2000/svg\" xmlns:xlink=\"http://www.w3.org/1999/xlink\"\n",
       "     width=\"400\" height=\"400\" viewBox=\"-200.0 -200.0 400 400\">\n",
       "<defs>\n",
       "</defs>\n",
       "<rect x=\"-200.0\" y=\"-200.0\" width=\"400\" height=\"400\" fill=\"black\" />\n",
       "<circle cx=\"97.12048187839892\" cy=\"-180.8894700708773\" r=\"10\" fill=\"green\" />\n",
       "<circle cx=\"-7.35250332684133\" cy=\"-0.45238477805218125\" r=\"10\" fill=\"green\" />\n",
       "<circle cx=\"22.07172357462747\" cy=\"120.8864370734165\" r=\"10\" fill=\"green\" />\n",
       "<circle cx=\"-125.12819666544253\" cy=\"-75.04020881924846\" r=\"10\" fill=\"green\" />\n",
       "<circle cx=\"-45.81594126947131\" cy=\"67.2601590762944\" r=\"10\" fill=\"green\" />\n",
       "<circle cx=\"164.49022528936962\" cy=\"29.926490072602938\" r=\"10\" fill=\"green\" />\n",
       "<circle cx=\"155.2348209763832\" cy=\"48.22412485193612\" r=\"10\" fill=\"green\" />\n",
       "<circle cx=\"-112.51836987332172\" cy=\"-148.360397193747\" r=\"10\" fill=\"green\" />\n",
       "<circle cx=\"12.3147436826562\" cy=\"-61.919346805608605\" r=\"10\" fill=\"green\" />\n",
       "<circle cx=\"-32.6299335580619\" cy=\"-7.223556199788802\" r=\"10\" fill=\"green\" />\n",
       "</svg>"
      ],
      "text/plain": [
       "<drawSvg.drawing.Drawing at 0x1dff8260a20>"
      ]
     },
     "metadata": {},
     "output_type": "display_data"
    },
    {
     "ename": "KeyboardInterrupt",
     "evalue": "",
     "output_type": "error",
     "traceback": [
      "\u001b[1;31m---------------------------------------------------------------------------\u001b[0m",
      "\u001b[1;31mKeyboardInterrupt\u001b[0m                         Traceback (most recent call last)",
      "\u001b[1;32m<ipython-input-13-de72afbe54c8>\u001b[0m in \u001b[0;36m<module>\u001b[1;34m\u001b[0m\n\u001b[0;32m      2\u001b[0m \u001b[1;32mwith\u001b[0m \u001b[0mdraw\u001b[0m\u001b[1;33m.\u001b[0m\u001b[0manimate_jupyter\u001b[0m\u001b[1;33m(\u001b[0m\u001b[0mdraw_frame\u001b[0m\u001b[1;33m,\u001b[0m \u001b[0mdelay\u001b[0m\u001b[1;33m=\u001b[0m\u001b[1;36m0.05\u001b[0m\u001b[1;33m)\u001b[0m \u001b[1;32mas\u001b[0m \u001b[0manim\u001b[0m\u001b[1;33m:\u001b[0m \u001b[1;31m#animation setup\u001b[0m\u001b[1;33m\u001b[0m\u001b[1;33m\u001b[0m\u001b[0m\n\u001b[0;32m      3\u001b[0m     \u001b[1;32mwhile\u001b[0m\u001b[1;33m(\u001b[0m \u001b[0ma\u001b[0m \u001b[1;33m<\u001b[0m\u001b[1;36m3000\u001b[0m \u001b[1;33m)\u001b[0m\u001b[1;33m:\u001b[0m\u001b[1;33m\u001b[0m\u001b[1;33m\u001b[0m\u001b[0m\n\u001b[1;32m----> 4\u001b[1;33m         \u001b[0manim\u001b[0m\u001b[1;33m.\u001b[0m\u001b[0mdraw_frame\u001b[0m\u001b[1;33m(\u001b[0m\u001b[1;33m)\u001b[0m\u001b[1;33m\u001b[0m\u001b[1;33m\u001b[0m\u001b[0m\n\u001b[0m\u001b[0;32m      5\u001b[0m         \u001b[0ma\u001b[0m\u001b[1;33m+=\u001b[0m\u001b[1;36m1\u001b[0m\u001b[1;33m\u001b[0m\u001b[1;33m\u001b[0m\u001b[0m\n",
      "\u001b[1;32m~\\Anaconda3\\lib\\site-packages\\drawSvg\\animation.py\u001b[0m in \u001b[0;36mdraw_frame\u001b[1;34m(self, *args, **kwargs)\u001b[0m\n\u001b[0;32m     20\u001b[0m     \u001b[1;32mdef\u001b[0m \u001b[0mdraw_frame\u001b[0m\u001b[1;33m(\u001b[0m\u001b[0mself\u001b[0m\u001b[1;33m,\u001b[0m \u001b[1;33m*\u001b[0m\u001b[0margs\u001b[0m\u001b[1;33m,\u001b[0m \u001b[1;33m**\u001b[0m\u001b[0mkwargs\u001b[0m\u001b[1;33m)\u001b[0m\u001b[1;33m:\u001b[0m\u001b[1;33m\u001b[0m\u001b[1;33m\u001b[0m\u001b[0m\n\u001b[0;32m     21\u001b[0m         \u001b[0mframe\u001b[0m \u001b[1;33m=\u001b[0m \u001b[0mself\u001b[0m\u001b[1;33m.\u001b[0m\u001b[0mdraw_func\u001b[0m\u001b[1;33m(\u001b[0m\u001b[1;33m*\u001b[0m\u001b[0margs\u001b[0m\u001b[1;33m,\u001b[0m \u001b[1;33m**\u001b[0m\u001b[0mkwargs\u001b[0m\u001b[1;33m)\u001b[0m\u001b[1;33m\u001b[0m\u001b[1;33m\u001b[0m\u001b[0m\n\u001b[1;32m---> 22\u001b[1;33m         \u001b[0mself\u001b[0m\u001b[1;33m.\u001b[0m\u001b[0mappend_frame\u001b[0m\u001b[1;33m(\u001b[0m\u001b[0mframe\u001b[0m\u001b[1;33m)\u001b[0m\u001b[1;33m\u001b[0m\u001b[1;33m\u001b[0m\u001b[0m\n\u001b[0m\u001b[0;32m     23\u001b[0m         \u001b[1;32mreturn\u001b[0m \u001b[0mframe\u001b[0m\u001b[1;33m\u001b[0m\u001b[1;33m\u001b[0m\u001b[0m\n\u001b[0;32m     24\u001b[0m \u001b[1;33m\u001b[0m\u001b[0m\n",
      "\u001b[1;32m~\\Anaconda3\\lib\\site-packages\\drawSvg\\animation.py\u001b[0m in \u001b[0;36mappend_frame\u001b[1;34m(self, frame)\u001b[0m\n\u001b[0;32m     16\u001b[0m     \u001b[1;32mdef\u001b[0m \u001b[0mappend_frame\u001b[0m\u001b[1;33m(\u001b[0m\u001b[0mself\u001b[0m\u001b[1;33m,\u001b[0m \u001b[0mframe\u001b[0m\u001b[1;33m)\u001b[0m\u001b[1;33m:\u001b[0m\u001b[1;33m\u001b[0m\u001b[1;33m\u001b[0m\u001b[0m\n\u001b[0;32m     17\u001b[0m         \u001b[0mself\u001b[0m\u001b[1;33m.\u001b[0m\u001b[0mframes\u001b[0m\u001b[1;33m.\u001b[0m\u001b[0mappend\u001b[0m\u001b[1;33m(\u001b[0m\u001b[0mframe\u001b[0m\u001b[1;33m)\u001b[0m\u001b[1;33m\u001b[0m\u001b[1;33m\u001b[0m\u001b[0m\n\u001b[1;32m---> 18\u001b[1;33m         \u001b[0mself\u001b[0m\u001b[1;33m.\u001b[0m\u001b[0mcallback\u001b[0m\u001b[1;33m(\u001b[0m\u001b[0mframe\u001b[0m\u001b[1;33m)\u001b[0m\u001b[1;33m\u001b[0m\u001b[1;33m\u001b[0m\u001b[0m\n\u001b[0m\u001b[0;32m     19\u001b[0m \u001b[1;33m\u001b[0m\u001b[0m\n\u001b[0;32m     20\u001b[0m     \u001b[1;32mdef\u001b[0m \u001b[0mdraw_frame\u001b[0m\u001b[1;33m(\u001b[0m\u001b[0mself\u001b[0m\u001b[1;33m,\u001b[0m \u001b[1;33m*\u001b[0m\u001b[0margs\u001b[0m\u001b[1;33m,\u001b[0m \u001b[1;33m**\u001b[0m\u001b[0mkwargs\u001b[0m\u001b[1;33m)\u001b[0m\u001b[1;33m:\u001b[0m\u001b[1;33m\u001b[0m\u001b[1;33m\u001b[0m\u001b[0m\n",
      "\u001b[1;32m~\\Anaconda3\\lib\\site-packages\\drawSvg\\animation.py\u001b[0m in \u001b[0;36mdraw_jupyter_frame\u001b[1;34m(self, frame)\u001b[0m\n\u001b[0;32m     59\u001b[0m             \u001b[0minput\u001b[0m\u001b[1;33m(\u001b[0m\u001b[1;34m'Next?'\u001b[0m\u001b[1;33m)\u001b[0m\u001b[1;33m\u001b[0m\u001b[1;33m\u001b[0m\u001b[0m\n\u001b[0;32m     60\u001b[0m         \u001b[1;32melif\u001b[0m \u001b[0mself\u001b[0m\u001b[1;33m.\u001b[0m\u001b[0mdelay\u001b[0m \u001b[1;33m!=\u001b[0m \u001b[1;36m0\u001b[0m\u001b[1;33m:\u001b[0m\u001b[1;33m\u001b[0m\u001b[1;33m\u001b[0m\u001b[0m\n\u001b[1;32m---> 61\u001b[1;33m             \u001b[0mtime\u001b[0m\u001b[1;33m.\u001b[0m\u001b[0msleep\u001b[0m\u001b[1;33m(\u001b[0m\u001b[0mself\u001b[0m\u001b[1;33m.\u001b[0m\u001b[0mdelay\u001b[0m\u001b[1;33m)\u001b[0m\u001b[1;33m\u001b[0m\u001b[1;33m\u001b[0m\u001b[0m\n\u001b[0m\u001b[0;32m     62\u001b[0m \u001b[1;33m\u001b[0m\u001b[0m\n\u001b[0;32m     63\u001b[0m     \u001b[1;32mdef\u001b[0m \u001b[0m__enter__\u001b[0m\u001b[1;33m(\u001b[0m\u001b[0mself\u001b[0m\u001b[1;33m)\u001b[0m\u001b[1;33m:\u001b[0m\u001b[1;33m\u001b[0m\u001b[1;33m\u001b[0m\u001b[0m\n",
      "\u001b[1;31mKeyboardInterrupt\u001b[0m: "
     ]
    }
   ],
   "source": [
    "a = 0 # counter variable to stop animation loop. not necessary\n",
    "with draw.animate_jupyter(draw_frame, delay=0.05) as anim: #animation setup\n",
    "    while( a <3000 ): \n",
    "        anim.draw_frame()\n",
    "        a+=1"
   ]
  },
  {
   "cell_type": "code",
   "execution_count": null,
   "metadata": {},
   "outputs": [],
   "source": []
  }
 ],
 "metadata": {
  "kernelspec": {
   "display_name": "Python 3",
   "language": "python",
   "name": "python3"
  },
  "language_info": {
   "codemirror_mode": {
    "name": "ipython",
    "version": 3
   },
   "file_extension": ".py",
   "mimetype": "text/x-python",
   "name": "python",
   "nbconvert_exporter": "python",
   "pygments_lexer": "ipython3",
   "version": "3.7.1"
  }
 },
 "nbformat": 4,
 "nbformat_minor": 2
}
