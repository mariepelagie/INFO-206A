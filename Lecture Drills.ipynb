{
 "cells": [
  {
   "cell_type": "code",
   "execution_count": 1,
   "metadata": {
    "scrolled": true
   },
   "outputs": [
    {
     "name": "stderr",
     "output_type": "stream",
     "text": [
      "C:\\Users\\mmoud\\Anaconda3\\lib\\site-packages\\drawSvg\\raster.py:11: RuntimeWarning: CairoSVG will need to be installed to rasterize images: Install with `pip3 install cairosvg`\n",
      "  warnings.warn(msg, RuntimeWarning)\n"
     ]
    }
   ],
   "source": [
    "import numpy as np\n",
    "import drawSvg as draw"
   ]
  },
  {
   "cell_type": "markdown",
   "metadata": {},
   "source": [
    "## Lecture 1 Drills"
   ]
  },
  {
   "cell_type": "code",
   "execution_count": 10,
   "metadata": {},
   "outputs": [
    {
     "data": {
      "image/svg+xml": [
       "<?xml version=\"1.0\" encoding=\"UTF-8\"?>\n",
       "<svg xmlns=\"http://www.w3.org/2000/svg\" xmlns:xlink=\"http://www.w3.org/1999/xlink\"\n",
       "     width=\"300\" height=\"300\" viewBox=\"-150.0 -150.0 300 300\">\n",
       "<defs>\n",
       "</defs>\n",
       "<circle cx=\"0\" cy=\"0\" r=\"90\" fill=\"blue\" />\n",
       "<circle cx=\"0\" cy=\"0\" r=\"70\" fill=\"green\" />\n",
       "<circle cx=\"0\" cy=\"0\" r=\"50\" fill=\"red\" />\n",
       "</svg>"
      ],
      "text/plain": [
       "<drawSvg.drawing.Drawing at 0x190d6792198>"
      ]
     },
     "execution_count": 10,
     "metadata": {},
     "output_type": "execute_result"
    }
   ],
   "source": [
    "# drill draw bull's eye . define variable that scales the size of the circle\n",
    "d = draw.Drawing(300, 300, origin='center')\n",
    "s = 20 # variable that scales circle size\n",
    "\n",
    "d.append(draw.Circle(0, 0, 50+(2*s),\n",
    "            fill='blue')) # outer blue circle\n",
    "d.append(draw.Circle(0, 0, 50+s,\n",
    "            fill='green')) # middle ring by creating an intermediate white circle\n",
    "\n",
    "d.append(draw.Circle(0, 0, 50,\n",
    "            fill='red')) #inner red circle \n",
    "\n",
    "d # display image"
   ]
  },
  {
   "cell_type": "markdown",
   "metadata": {},
   "source": [
    "## Lecture 3 Drills"
   ]
  },
  {
   "cell_type": "code",
   "execution_count": 7,
   "metadata": {},
   "outputs": [],
   "source": [
    "# draw a frame of the animation\n",
    "def draw_frame(r):\n",
    "    d = draw.Drawing(300, 300, origin='center')\n",
    "    d.append(draw.Circle(0, 0, r,\n",
    "            fill='green')) \n",
    "    \n",
    "    return d\n",
    "    "
   ]
  },
  {
   "cell_type": "code",
   "execution_count": 8,
   "metadata": {},
   "outputs": [
    {
     "data": {
      "image/svg+xml": [
       "<?xml version=\"1.0\" encoding=\"UTF-8\"?>\n",
       "<svg xmlns=\"http://www.w3.org/2000/svg\" xmlns:xlink=\"http://www.w3.org/1999/xlink\"\n",
       "     width=\"300\" height=\"300\" viewBox=\"-150.0 -150.0 300 300\">\n",
       "<defs>\n",
       "</defs>\n",
       "<circle cx=\"0\" cy=\"0\" r=\"140.0\" fill=\"green\" />\n",
       "</svg>"
      ],
      "text/plain": [
       "<drawSvg.drawing.Drawing at 0x253699efdd8>"
      ]
     },
     "metadata": {},
     "output_type": "display_data"
    }
   ],
   "source": [
    "#animation - animate the expanding circle\n",
    "r =0 \n",
    "R = 140 #stopping radius\n",
    "with draw.animate_jupyter(draw_frame,delay =0.05) as anim:\n",
    "    while r <= R:\n",
    "        anim.draw_frame(r)\n",
    "        r = r+2.5"
   ]
  },
  {
   "cell_type": "code",
   "execution_count": 9,
   "metadata": {},
   "outputs": [
    {
     "data": {
      "image/svg+xml": [
       "<?xml version=\"1.0\" encoding=\"UTF-8\"?>\n",
       "<svg xmlns=\"http://www.w3.org/2000/svg\" xmlns:xlink=\"http://www.w3.org/1999/xlink\"\n",
       "     width=\"300\" height=\"300\" viewBox=\"-150.0 -150.0 300 300\">\n",
       "<defs>\n",
       "</defs>\n",
       "<circle cx=\"0\" cy=\"0\" r=\"137.5\" fill=\"green\" />\n",
       "</svg>"
      ],
      "text/plain": [
       "<drawSvg.drawing.Drawing at 0x25369abc048>"
      ]
     },
     "metadata": {},
     "output_type": "display_data"
    }
   ],
   "source": [
    "#animation - pulsing cuicle \n",
    "r =0 \n",
    "s = 0 #starting radius\n",
    "R = 140 #stopping radius\n",
    "runs = 0 # counts number of full expansions and full contraction cycles\n",
    "sign =1 # direction of expansion(1) and contraction\n",
    "with draw.animate_jupyter(draw_frame,delay =0.05) as anim:\n",
    "    while runs<= 10: # what is my stopping critria\n",
    "        anim.draw_frame(r)\n",
    "        if (sign ==1): \n",
    "            r = r+2.5\n",
    "        else : \n",
    "            r = r-2.5\n",
    "        if r==R or r == s:\n",
    "            sign = sign*-1\n",
    "            runs +=1"
   ]
  },
  {
   "cell_type": "code",
   "execution_count": null,
   "metadata": {},
   "outputs": [],
   "source": [
    "## write a code to determine if the number is prime\n",
    "\n",
    "def is_Prime(n): \n",
    "    f =2\n",
    "    while f < n:\n",
    "        if (n%f==0):\n",
    "            print(str(n)+ \" is not prime\")\n",
    "            break;\n",
    "        \n",
    "        f = f+1\n",
    "    if f == n:\n",
    "        print(str(n)+ ' is prime')\n",
    "    return "
   ]
  },
  {
   "cell_type": "code",
   "execution_count": null,
   "metadata": {},
   "outputs": [],
   "source": [
    "is_Prime(12)"
   ]
  },
  {
   "cell_type": "markdown",
   "metadata": {},
   "source": [
    "## Lecture 4 Drills"
   ]
  },
  {
   "cell_type": "code",
   "execution_count": null,
   "metadata": {},
   "outputs": [],
   "source": [
    "## draw a 9x9 checker board with alternating blue and red squares. \n",
    "##you should use nested loops to iterate thru rows and columns"
   ]
  },
  {
   "cell_type": "code",
   "execution_count": null,
   "metadata": {},
   "outputs": [],
   "source": [
    "def swap(i,j,c):\n",
    "    \n",
    "    if c == 0 :\n",
    "        d.append(draw.Rectangle(i,j,20,20,fill='blue')) \n",
    "        #c=1\n",
    "    \n",
    "    else:\n",
    "    #print(i)\n",
    "        d.append(draw.Rectangle(i,j,20,20,fill='red'))\n",
    "        #color == 'blue' \n",
    "    return d"
   ]
  },
  {
   "cell_type": "code",
   "execution_count": null,
   "metadata": {},
   "outputs": [],
   "source": [
    "d = draw.Drawing(250, 250, origin='center')\n",
    "c=1\n",
    "for y in range(-90,120,20):\n",
    "    for x in range(-90,120,20):\n",
    "        if c==1:\n",
    "            swap(x,y,1)\n",
    "            \n",
    "            c=0\n",
    "        else:\n",
    "            swap(x,y,0)\n",
    "            c=1\n",
    "d\n",
    "    "
   ]
  },
  {
   "cell_type": "code",
   "execution_count": null,
   "metadata": {},
   "outputs": [],
   "source": [
    "d = draw.Drawing(200, 200, origin='center')\n",
    "c=1\n",
    "for y in range(0,9):\n",
    "    for x in range(0,9):\n",
    "        if c==1:\n",
    "            d.append(draw.Rectangle(-90+x*20,-100+y*20,20,20,fill='blue')) \n",
    "            c=0\n",
    "        else:\n",
    "            d.append(draw.Rectangle(-90+x*20,-100+y*20,20,20,fill='red')) \n",
    "            c=1\n",
    "d\n",
    "            \n",
    "            \n",
    "        "
   ]
  },
  {
   "cell_type": "code",
   "execution_count": null,
   "metadata": {},
   "outputs": [],
   "source": [
    "range(-10,10)"
   ]
  },
  {
   "cell_type": "code",
   "execution_count": null,
   "metadata": {},
   "outputs": [],
   "source": [
    "### write some code that computed the length and position the largest list in a list of list\n"
   ]
  },
  {
   "cell_type": "markdown",
   "metadata": {},
   "source": [
    "## lecture 5"
   ]
  },
  {
   "cell_type": "code",
   "execution_count": null,
   "metadata": {},
   "outputs": [],
   "source": [
    "## write a funtion count_evens that takes as input\n",
    "# a list of numbers and returns the number of even numbers"
   ]
  },
  {
   "cell_type": "code",
   "execution_count": null,
   "metadata": {},
   "outputs": [],
   "source": [
    "def count_evens(L):\n",
    "    num_evens = 0\n",
    "    for n in L:\n",
    "        if n%2 == 0:\n",
    "            num_evens +=1\n",
    "    return num_evens"
   ]
  },
  {
   "cell_type": "code",
   "execution_count": null,
   "metadata": {},
   "outputs": [],
   "source": [
    "L_1 = [1,1,1,1,1]\n",
    "L_2 = [20,20,40,20,10]\n",
    "L_3= [1,2,3]"
   ]
  },
  {
   "cell_type": "code",
   "execution_count": null,
   "metadata": {},
   "outputs": [],
   "source": [
    "count_evens(L_1)"
   ]
  },
  {
   "cell_type": "code",
   "execution_count": null,
   "metadata": {},
   "outputs": [],
   "source": [
    "count_evens(L_2)"
   ]
  },
  {
   "cell_type": "code",
   "execution_count": null,
   "metadata": {},
   "outputs": [],
   "source": [
    "count_evens(L_3)"
   ]
  },
  {
   "cell_type": "markdown",
   "metadata": {},
   "source": [
    "9/23/2019 lecture drill"
   ]
  },
  {
   "cell_type": "code",
   "execution_count": null,
   "metadata": {},
   "outputs": [],
   "source": [
    "#  write an iterarive function that takes as input \n",
    "#integer n and returns the sum of the first n\n",
    "#integers\n",
    "\n",
    "#ITERATIVE SOLUTION\n",
    "def sum_iter(n):\n",
    "    sum = 0\n",
    "    i=1\n",
    "    while i <= n:\n",
    "        sum += i\n",
    "        i +=1\n",
    "    return sum\n",
    "        "
   ]
  },
  {
   "cell_type": "code",
   "execution_count": null,
   "metadata": {},
   "outputs": [],
   "source": [
    "sum_iter(30)"
   ]
  },
  {
   "cell_type": "code",
   "execution_count": null,
   "metadata": {},
   "outputs": [],
   "source": [
    "#Recursive solution\n",
    "\n",
    "def sum_recur(n):\n",
    "    if (n==0):\n",
    "        return 0\n",
    "    return n + sum_recur(n-1)\n",
    "        \n"
   ]
  },
  {
   "cell_type": "code",
   "execution_count": null,
   "metadata": {},
   "outputs": [],
   "source": [
    "sum_recur(30)"
   ]
  },
  {
   "cell_type": "markdown",
   "metadata": {},
   "source": [
    "## 9/25/2019 Lecture:\n",
    "#### Drill 1\n",
    "Write a class bank statement BankAccount. This class has one instance variable \n",
    "\"balance\" and four methods each of which requires only one line of code each:\n",
    "\n",
    "    constructor: takes input as amount and increments \"balance\"\n",
    "    \n",
    "    deposit: takes as inout an amount and increments balance\n",
    "    \n",
    "    withdrawal: takes as inout an amount and decrements balance\n",
    "    \n",
    "    overdrawn : return true is \"balance\"<0 or else returns false"
   ]
  },
  {
   "cell_type": "code",
   "execution_count": null,
   "metadata": {},
   "outputs": [],
   "source": [
    "class BankAccount: \n",
    "    def __init__(self, initial):\n",
    "        self.balance = initial\n",
    "    def deposit(self,amount):\n",
    "        self.balance = self.balance + amount\n",
    "    def withdraw(self,amount):\n",
    "        self.balance = self.balance - amount\n",
    "    def overdrawn(self):\n",
    "        return self.balance <= 0\n",
    "    def __str__(self):\n",
    "        return \"balance: \" + str(self.balance)\n",
    "        \n",
    "        "
   ]
  },
  {
   "cell_type": "markdown",
   "metadata": {},
   "source": [
    "#### Test Cases"
   ]
  },
  {
   "cell_type": "code",
   "execution_count": null,
   "metadata": {},
   "outputs": [],
   "source": [
    "account1 = BankAccount(3000)\n",
    "account2 = BankAccount(1000)"
   ]
  },
  {
   "cell_type": "code",
   "execution_count": null,
   "metadata": {},
   "outputs": [],
   "source": [
    "account1.balance"
   ]
  },
  {
   "cell_type": "code",
   "execution_count": null,
   "metadata": {},
   "outputs": [],
   "source": [
    "print(account1)"
   ]
  },
  {
   "cell_type": "code",
   "execution_count": null,
   "metadata": {},
   "outputs": [],
   "source": [
    "account2.balance"
   ]
  },
  {
   "cell_type": "code",
   "execution_count": null,
   "metadata": {},
   "outputs": [],
   "source": [
    "account2.deposit(1500)"
   ]
  },
  {
   "cell_type": "code",
   "execution_count": null,
   "metadata": {},
   "outputs": [],
   "source": [
    "account2.overdrawn()"
   ]
  },
  {
   "cell_type": "code",
   "execution_count": null,
   "metadata": {},
   "outputs": [],
   "source": [
    "account1.withdraw(5000)\n",
    "account1.overdrawn()"
   ]
  },
  {
   "cell_type": "code",
   "execution_count": null,
   "metadata": {},
   "outputs": [],
   "source": [
    "account1.balance"
   ]
  },
  {
   "cell_type": "markdown",
   "metadata": {},
   "source": [
    "#### Drill 2\n",
    "write a class named Kangaroo with:\n",
    "\n",
    "constructor: Initialises an instance variable named \"pouch_contents\" to an empty list\n",
    "\n",
    "put_in_pouch : takes string as input and adds it to the pouch_contents, if it is not \n",
    "already in the pouch. if it is already in pouch  print (\"object already in pouch\")\n",
    "\n",
    "__str__ : prints contents of pouch . if the pouch is emptry print(\"the kanagaroo pouch is empty\")\n",
    "if pouch not empty, print(the kanagaroo's pouch contains: [A,B,C], where A,B,C are contents of pouch\n"
   ]
  },
  {
   "cell_type": "code",
   "execution_count": 1,
   "metadata": {},
   "outputs": [],
   "source": [
    "class Kangaroo:\n",
    "    def __init__(self,initial_L):\n",
    "        self.L = initial_L\n",
    "    def put_in_pouch(self,item):\n",
    "        for l in self.L:\n",
    "            if item == l:\n",
    "                print(\"Object already in pouch\")\n",
    "        else: \n",
    "            self.L.append(item)\n",
    "    def __str__(self):\n",
    "        if len(self.L) == 0:\n",
    "            return(\"The kanagaroo pouch is empty\")\n",
    "        else:\n",
    "            return(\"the kanagaroo\\'s pouch contains: \" + str(self.L))"
   ]
  },
  {
   "cell_type": "code",
   "execution_count": 2,
   "metadata": {},
   "outputs": [
    {
     "name": "stdout",
     "output_type": "stream",
     "text": [
      "The kanagaroo pouch is empty\n"
     ]
    }
   ],
   "source": [
    "k1 = Kangaroo([])\n",
    "print(k1)"
   ]
  },
  {
   "cell_type": "code",
   "execution_count": 3,
   "metadata": {},
   "outputs": [
    {
     "name": "stdout",
     "output_type": "stream",
     "text": [
      "the kanagaroo's pouch contains: ['water']\n"
     ]
    }
   ],
   "source": [
    "k1.put_in_pouch('water')\n",
    "print(k1)"
   ]
  },
  {
   "cell_type": "code",
   "execution_count": 4,
   "metadata": {},
   "outputs": [
    {
     "name": "stdout",
     "output_type": "stream",
     "text": [
      "the kanagaroo's pouch contains: ['water', 'candy']\n"
     ]
    }
   ],
   "source": [
    "k1.put_in_pouch('candy')\n",
    "print(k1)"
   ]
  },
  {
   "cell_type": "markdown",
   "metadata": {},
   "source": [
    "## Lecture 9/30/2019"
   ]
  },
  {
   "cell_type": "code",
   "execution_count": 2,
   "metadata": {},
   "outputs": [],
   "source": [
    "from random import uniform\n",
    "import math\n",
    "# Eye class,\n",
    "class Eye:\n",
    "    def __init__(self, x, y, rad, color='blue'):\n",
    "        # eye position and size\n",
    "        self.x = x\n",
    "        self.y = y\n",
    "        self.rad = rad\n",
    "\n",
    "        # eye gaze direction\n",
    "        self.direction = 0 # not passed in\n",
    "        # eye color\n",
    "        self.color = color\n",
    "    def lookat(self, lx, ly):\n",
    "        self.direction = math.atan2(ly-self.y, lx-self.x) # move eye to look at (lx,ly)\\n\",\n",
    "\n",
    "    def drawEye(self):\n",
    "        # draw outer circle\n",
    "        D.append(draw.Circle(self.x, self.y, self.rad, fill='white', stroke='black'))\n",
    "        # draw inner circle\\n\",\n",
    "        ix = 0.4 * self.rad * math.cos(self.direction) + self.x\n",
    "        iy = 0.4 * self.rad * math.sin(self.direction) + self.y\n",
    "        D.append(draw.Circle(ix, iy, 0.5*self.rad, fill=self.color, stroke='black'))"
   ]
  },
  {
   "cell_type": "code",
   "execution_count": 3,
   "metadata": {},
   "outputs": [
    {
     "data": {
      "image/svg+xml": [
       "<?xml version=\"1.0\" encoding=\"UTF-8\"?>\n",
       "<svg xmlns=\"http://www.w3.org/2000/svg\" xmlns:xlink=\"http://www.w3.org/1999/xlink\"\n",
       "     width=\"200\" height=\"200\" viewBox=\"-100.0 -100.0 200 200\">\n",
       "<defs>\n",
       "</defs>\n",
       "<circle cx=\"50\" cy=\"-50\" r=\"20\" fill=\"white\" stroke=\"black\" />\n",
       "<circle cx=\"58.0\" cy=\"-50.0\" r=\"10.0\" fill=\"blue\" stroke=\"black\" />\n",
       "</svg>"
      ],
      "text/plain": [
       "<drawSvg.drawing.Drawing at 0x253699c9b70>"
      ]
     },
     "execution_count": 3,
     "metadata": {},
     "output_type": "execute_result"
    }
   ],
   "source": [
    "D = draw.Drawing(200, 200, origin='center') \n",
    "le = Eye(50,50,20)\n",
    "le.drawEye()\n",
    "D"
   ]
  },
  {
   "cell_type": "code",
   "execution_count": 4,
   "metadata": {},
   "outputs": [],
   "source": [
    "# Face class\n",
    "G = 6.67384*(10**(-11))\n",
    "class Face:\n",
    "    def __init__(self, x, y, size):\n",
    "        # face position and size\n",
    "        self.x = x\n",
    "        self.y = y\n",
    "        self.size = size\n",
    "  \n",
    "        # create eyes\\n\",\n",
    "        self.lefteye = Eye( x-40, y+50, 30 )\n",
    "        self.righteye = Eye( x+40, y+50, 30 )\n",
    "        \n",
    "    def lookat(self, lx, ly):\n",
    "        self.lefteye.lookat( lx, ly )\n",
    "        self.righteye.lookat( lx, ly )\t\n",
    "    def drawFace(self):\n",
    "        # draw face\n",
    "        D.append(draw.Circle(self.x, self.y, self.size, fill='white', stroke='black'))\n",
    "        # draw eyes\n",
    "        self.lefteye.drawEye()\n",
    "        self.righteye.drawEye()\n",
    "        \n",
    "        # draw nose\n",
    "        p = draw.Path(stroke='black', fill='white')\n",
    "        p.M(self.x+0,self.y+30)   # Start path \n",
    "        p.l(30,-30) # Draw line to next point\n",
    "        p.l(-30,0)  # Draw line to next point\n",
    "        D.append(p)\n",
    "        \n",
    "        # draw mouth\n",
    "        D.append(draw.Arc(self.x+0,self.y-30,40,180,0, stroke='black', fill='white'))"
   ]
  },
  {
   "cell_type": "code",
   "execution_count": 5,
   "metadata": {},
   "outputs": [
    {
     "data": {
      "image/svg+xml": [
       "<?xml version=\"1.0\" encoding=\"UTF-8\"?>\n",
       "<svg xmlns=\"http://www.w3.org/2000/svg\" xmlns:xlink=\"http://www.w3.org/1999/xlink\"\n",
       "     width=\"400\" height=\"400\" viewBox=\"-200.0 -200.0 400 400\">\n",
       "<defs>\n",
       "</defs>\n",
       "<circle cx=\"0\" cy=\"0\" r=\"100\" fill=\"white\" stroke=\"black\" />\n",
       "<circle cx=\"-40\" cy=\"-50\" r=\"30\" fill=\"white\" stroke=\"black\" />\n",
       "<circle cx=\"-28.0\" cy=\"-50.0\" r=\"15.0\" fill=\"blue\" stroke=\"black\" />\n",
       "<circle cx=\"40\" cy=\"-50\" r=\"30\" fill=\"white\" stroke=\"black\" />\n",
       "<circle cx=\"52.0\" cy=\"-50.0\" r=\"15.0\" fill=\"blue\" stroke=\"black\" />\n",
       "<path d=\"M0,-30 l30,30 l-30,0\" stroke=\"black\" fill=\"white\" />\n",
       "<path d=\"M-40.0,29.999999999999996 A40,40,0,0,0,40.0,30.0\" stroke=\"black\" fill=\"white\" />\n",
       "</svg>"
      ],
      "text/plain": [
       "<drawSvg.drawing.Drawing at 0x253681fdeb8>"
      ]
     },
     "execution_count": 5,
     "metadata": {},
     "output_type": "execute_result"
    }
   ],
   "source": [
    "D = draw.Drawing(400, 400, origin='center') \n",
    "f1 = Face(0,0,100)\n",
    "f1.drawFace()\n",
    "D"
   ]
  },
  {
   "cell_type": "code",
   "execution_count": 6,
   "metadata": {},
   "outputs": [
    {
     "data": {
      "image/svg+xml": [
       "<?xml version=\"1.0\" encoding=\"UTF-8\"?>\n",
       "<svg xmlns=\"http://www.w3.org/2000/svg\" xmlns:xlink=\"http://www.w3.org/1999/xlink\"\n",
       "     width=\"800\" height=\"800\" viewBox=\"-400.0 -400.0 800 800\">\n",
       "<defs>\n",
       "</defs>\n",
       "<circle cx=\"-140.09541340359849\" cy=\"-59.19015282933134\" r=\"100\" fill=\"white\" stroke=\"black\" />\n",
       "<circle cx=\"-180.09541340359849\" cy=\"-109.19015282933134\" r=\"30\" fill=\"white\" stroke=\"black\" />\n",
       "<circle cx=\"-168.09541340359849\" cy=\"-109.19015282933134\" r=\"15.0\" fill=\"blue\" stroke=\"black\" />\n",
       "<circle cx=\"-100.09541340359849\" cy=\"-109.19015282933134\" r=\"30\" fill=\"white\" stroke=\"black\" />\n",
       "<circle cx=\"-88.09541340359849\" cy=\"-109.19015282933134\" r=\"15.0\" fill=\"blue\" stroke=\"black\" />\n",
       "<path d=\"M-140.09541340359849,-89.19015282933134 l30,30 l-30,0\" stroke=\"black\" fill=\"white\" />\n",
       "<path d=\"M-180.09541340359849,-29.190152829331343 A40,40,0,0,0,-100.09541340359849,-29.19015282933134\" stroke=\"black\" fill=\"white\" />\n",
       "<circle cx=\"119.41214172150723\" cy=\"51.57404843905397\" r=\"100\" fill=\"white\" stroke=\"black\" />\n",
       "<circle cx=\"79.41214172150723\" cy=\"1.5740484390539677\" r=\"30\" fill=\"white\" stroke=\"black\" />\n",
       "<circle cx=\"91.41214172150723\" cy=\"1.5740484390539677\" r=\"15.0\" fill=\"blue\" stroke=\"black\" />\n",
       "<circle cx=\"159.41214172150723\" cy=\"1.5740484390539677\" r=\"30\" fill=\"white\" stroke=\"black\" />\n",
       "<circle cx=\"171.41214172150723\" cy=\"1.5740484390539677\" r=\"15.0\" fill=\"blue\" stroke=\"black\" />\n",
       "<path d=\"M119.41214172150723,21.574048439053968 l30,30 l-30,0\" stroke=\"black\" fill=\"white\" />\n",
       "<path d=\"M79.41214172150723,81.57404843905397 A40,40,0,0,0,159.41214172150723,81.57404843905397\" stroke=\"black\" fill=\"white\" />\n",
       "<circle cx=\"11.271933810401379\" cy=\"253.4570353120947\" r=\"100\" fill=\"white\" stroke=\"black\" />\n",
       "<circle cx=\"-28.72806618959862\" cy=\"203.4570353120947\" r=\"30\" fill=\"white\" stroke=\"black\" />\n",
       "<circle cx=\"-16.72806618959862\" cy=\"203.4570353120947\" r=\"15.0\" fill=\"blue\" stroke=\"black\" />\n",
       "<circle cx=\"51.27193381040138\" cy=\"203.4570353120947\" r=\"30\" fill=\"white\" stroke=\"black\" />\n",
       "<circle cx=\"63.27193381040138\" cy=\"203.4570353120947\" r=\"15.0\" fill=\"blue\" stroke=\"black\" />\n",
       "<path d=\"M11.271933810401379,223.4570353120947 l30,30 l-30,0\" stroke=\"black\" fill=\"white\" />\n",
       "<path d=\"M-28.72806618959862,283.4570353120947 A40,40,0,0,0,51.27193381040138,283.4570353120947\" stroke=\"black\" fill=\"white\" />\n",
       "<circle cx=\"272.73771424139284\" cy=\"-181.9130523968252\" r=\"100\" fill=\"white\" stroke=\"black\" />\n",
       "<circle cx=\"232.73771424139284\" cy=\"-231.9130523968252\" r=\"30\" fill=\"white\" stroke=\"black\" />\n",
       "<circle cx=\"244.73771424139284\" cy=\"-231.9130523968252\" r=\"15.0\" fill=\"blue\" stroke=\"black\" />\n",
       "<circle cx=\"312.73771424139284\" cy=\"-231.9130523968252\" r=\"30\" fill=\"white\" stroke=\"black\" />\n",
       "<circle cx=\"324.73771424139284\" cy=\"-231.9130523968252\" r=\"15.0\" fill=\"blue\" stroke=\"black\" />\n",
       "<path d=\"M272.73771424139284,-211.9130523968252 l30,30 l-30,0\" stroke=\"black\" fill=\"white\" />\n",
       "<path d=\"M232.73771424139284,-151.9130523968252 A40,40,0,0,0,312.73771424139284,-151.9130523968252\" stroke=\"black\" fill=\"white\" />\n",
       "<circle cx=\"35.0858166092998\" cy=\"-188.6518710371604\" r=\"100\" fill=\"white\" stroke=\"black\" />\n",
       "<circle cx=\"-4.914183390700202\" cy=\"-238.6518710371604\" r=\"30\" fill=\"white\" stroke=\"black\" />\n",
       "<circle cx=\"7.085816609299798\" cy=\"-238.6518710371604\" r=\"15.0\" fill=\"blue\" stroke=\"black\" />\n",
       "<circle cx=\"75.0858166092998\" cy=\"-238.6518710371604\" r=\"30\" fill=\"white\" stroke=\"black\" />\n",
       "<circle cx=\"87.0858166092998\" cy=\"-238.6518710371604\" r=\"15.0\" fill=\"blue\" stroke=\"black\" />\n",
       "<path d=\"M35.0858166092998,-218.6518710371604 l30,30 l-30,0\" stroke=\"black\" fill=\"white\" />\n",
       "<path d=\"M-4.914183390700202,-158.6518710371604 A40,40,0,0,0,75.0858166092998,-158.6518710371604\" stroke=\"black\" fill=\"white\" />\n",
       "<circle cx=\"283.29420072951893\" cy=\"-57.57756371961227\" r=\"100\" fill=\"white\" stroke=\"black\" />\n",
       "<circle cx=\"243.29420072951893\" cy=\"-107.57756371961227\" r=\"30\" fill=\"white\" stroke=\"black\" />\n",
       "<circle cx=\"255.29420072951893\" cy=\"-107.57756371961227\" r=\"15.0\" fill=\"blue\" stroke=\"black\" />\n",
       "<circle cx=\"323.29420072951893\" cy=\"-107.57756371961227\" r=\"30\" fill=\"white\" stroke=\"black\" />\n",
       "<circle cx=\"335.29420072951893\" cy=\"-107.57756371961227\" r=\"15.0\" fill=\"blue\" stroke=\"black\" />\n",
       "<path d=\"M283.29420072951893,-87.57756371961227 l30,30 l-30,0\" stroke=\"black\" fill=\"white\" />\n",
       "<path d=\"M243.29420072951893,-27.577563719612275 A40,40,0,0,0,323.29420072951893,-27.57756371961227\" stroke=\"black\" fill=\"white\" />\n",
       "<circle cx=\"-203.64230545660592\" cy=\"-235.66582540377726\" r=\"100\" fill=\"white\" stroke=\"black\" />\n",
       "<circle cx=\"-243.64230545660592\" cy=\"-285.66582540377726\" r=\"30\" fill=\"white\" stroke=\"black\" />\n",
       "<circle cx=\"-231.64230545660592\" cy=\"-285.66582540377726\" r=\"15.0\" fill=\"blue\" stroke=\"black\" />\n",
       "<circle cx=\"-163.64230545660592\" cy=\"-285.66582540377726\" r=\"30\" fill=\"white\" stroke=\"black\" />\n",
       "<circle cx=\"-151.64230545660592\" cy=\"-285.66582540377726\" r=\"15.0\" fill=\"blue\" stroke=\"black\" />\n",
       "<path d=\"M-203.64230545660592,-265.66582540377726 l30,30 l-30,0\" stroke=\"black\" fill=\"white\" />\n",
       "<path d=\"M-243.64230545660592,-205.66582540377726 A40,40,0,0,0,-163.64230545660592,-205.66582540377726\" stroke=\"black\" fill=\"white\" />\n",
       "<circle cx=\"229.1171728373464\" cy=\"-297.87150544087615\" r=\"100\" fill=\"white\" stroke=\"black\" />\n",
       "<circle cx=\"189.1171728373464\" cy=\"-347.87150544087615\" r=\"30\" fill=\"white\" stroke=\"black\" />\n",
       "<circle cx=\"201.1171728373464\" cy=\"-347.87150544087615\" r=\"15.0\" fill=\"blue\" stroke=\"black\" />\n",
       "<circle cx=\"269.1171728373464\" cy=\"-347.87150544087615\" r=\"30\" fill=\"white\" stroke=\"black\" />\n",
       "<circle cx=\"281.1171728373464\" cy=\"-347.87150544087615\" r=\"15.0\" fill=\"blue\" stroke=\"black\" />\n",
       "<path d=\"M229.1171728373464,-327.87150544087615 l30,30 l-30,0\" stroke=\"black\" fill=\"white\" />\n",
       "<path d=\"M189.1171728373464,-267.87150544087615 A40,40,0,0,0,269.1171728373464,-267.87150544087615\" stroke=\"black\" fill=\"white\" />\n",
       "<circle cx=\"41.89778714411125\" cy=\"-66.80095941945319\" r=\"100\" fill=\"white\" stroke=\"black\" />\n",
       "<circle cx=\"1.8977871441112484\" cy=\"-116.80095941945319\" r=\"30\" fill=\"white\" stroke=\"black\" />\n",
       "<circle cx=\"13.897787144111248\" cy=\"-116.80095941945319\" r=\"15.0\" fill=\"blue\" stroke=\"black\" />\n",
       "<circle cx=\"81.89778714411125\" cy=\"-116.80095941945319\" r=\"30\" fill=\"white\" stroke=\"black\" />\n",
       "<circle cx=\"93.89778714411125\" cy=\"-116.80095941945319\" r=\"15.0\" fill=\"blue\" stroke=\"black\" />\n",
       "<path d=\"M41.89778714411125,-96.80095941945319 l30,30 l-30,0\" stroke=\"black\" fill=\"white\" />\n",
       "<path d=\"M1.8977871441112484,-36.8009594194532 A40,40,0,0,0,81.89778714411125,-36.80095941945319\" stroke=\"black\" fill=\"white\" />\n",
       "<circle cx=\"-211.0051894488617\" cy=\"-58.99427608453334\" r=\"100\" fill=\"white\" stroke=\"black\" />\n",
       "<circle cx=\"-251.0051894488617\" cy=\"-108.99427608453334\" r=\"30\" fill=\"white\" stroke=\"black\" />\n",
       "<circle cx=\"-239.0051894488617\" cy=\"-108.99427608453334\" r=\"15.0\" fill=\"blue\" stroke=\"black\" />\n",
       "<circle cx=\"-171.0051894488617\" cy=\"-108.99427608453334\" r=\"30\" fill=\"white\" stroke=\"black\" />\n",
       "<circle cx=\"-159.0051894488617\" cy=\"-108.99427608453334\" r=\"15.0\" fill=\"blue\" stroke=\"black\" />\n",
       "<path d=\"M-211.0051894488617,-88.99427608453334 l30,30 l-30,0\" stroke=\"black\" fill=\"white\" />\n",
       "<path d=\"M-251.0051894488617,-28.994276084533343 A40,40,0,0,0,-171.0051894488617,-28.99427608453334\" stroke=\"black\" fill=\"white\" />\n",
       "<circle cx=\"-67.73016640815905\" cy=\"-39.422573583812664\" r=\"100\" fill=\"white\" stroke=\"black\" />\n",
       "<circle cx=\"-107.73016640815905\" cy=\"-89.42257358381266\" r=\"30\" fill=\"white\" stroke=\"black\" />\n",
       "<circle cx=\"-95.73016640815905\" cy=\"-89.42257358381266\" r=\"15.0\" fill=\"blue\" stroke=\"black\" />\n",
       "<circle cx=\"-27.73016640815905\" cy=\"-89.42257358381266\" r=\"30\" fill=\"white\" stroke=\"black\" />\n",
       "<circle cx=\"-15.73016640815905\" cy=\"-89.42257358381266\" r=\"15.0\" fill=\"blue\" stroke=\"black\" />\n",
       "<path d=\"M-67.73016640815905,-69.42257358381266 l30,30 l-30,0\" stroke=\"black\" fill=\"white\" />\n",
       "<path d=\"M-107.73016640815905,-9.42257358381267 A40,40,0,0,0,-27.73016640815905,-9.422573583812664\" stroke=\"black\" fill=\"white\" />\n",
       "<circle cx=\"-253.13056747691988\" cy=\"225.11619257337733\" r=\"100\" fill=\"white\" stroke=\"black\" />\n",
       "<circle cx=\"-293.13056747691985\" cy=\"175.11619257337733\" r=\"30\" fill=\"white\" stroke=\"black\" />\n",
       "<circle cx=\"-281.13056747691985\" cy=\"175.11619257337733\" r=\"15.0\" fill=\"blue\" stroke=\"black\" />\n",
       "<circle cx=\"-213.13056747691988\" cy=\"175.11619257337733\" r=\"30\" fill=\"white\" stroke=\"black\" />\n",
       "<circle cx=\"-201.13056747691988\" cy=\"175.11619257337733\" r=\"15.0\" fill=\"blue\" stroke=\"black\" />\n",
       "<path d=\"M-253.13056747691988,195.11619257337733 l30,30 l-30,0\" stroke=\"black\" fill=\"white\" />\n",
       "<path d=\"M-293.13056747691985,255.11619257337733 A40,40,0,0,0,-213.13056747691988,255.11619257337733\" stroke=\"black\" fill=\"white\" />\n",
       "<circle cx=\"68.71906574392904\" cy=\"-77.7092765995908\" r=\"100\" fill=\"white\" stroke=\"black\" />\n",
       "<circle cx=\"28.719065743929036\" cy=\"-127.7092765995908\" r=\"30\" fill=\"white\" stroke=\"black\" />\n",
       "<circle cx=\"40.719065743929036\" cy=\"-127.7092765995908\" r=\"15.0\" fill=\"blue\" stroke=\"black\" />\n",
       "<circle cx=\"108.71906574392904\" cy=\"-127.7092765995908\" r=\"30\" fill=\"white\" stroke=\"black\" />\n",
       "<circle cx=\"120.71906574392904\" cy=\"-127.7092765995908\" r=\"15.0\" fill=\"blue\" stroke=\"black\" />\n",
       "<path d=\"M68.71906574392904,-107.7092765995908 l30,30 l-30,0\" stroke=\"black\" fill=\"white\" />\n",
       "<path d=\"M28.719065743929036,-47.7092765995908 A40,40,0,0,0,108.71906574392904,-47.709276599590794\" stroke=\"black\" fill=\"white\" />\n",
       "<circle cx=\"-10.013389930772973\" cy=\"-246.67717593962277\" r=\"100\" fill=\"white\" stroke=\"black\" />\n",
       "<circle cx=\"-50.01338993077297\" cy=\"-296.67717593962277\" r=\"30\" fill=\"white\" stroke=\"black\" />\n",
       "<circle cx=\"-38.01338993077297\" cy=\"-296.67717593962277\" r=\"15.0\" fill=\"blue\" stroke=\"black\" />\n",
       "<circle cx=\"29.986610069227027\" cy=\"-296.67717593962277\" r=\"30\" fill=\"white\" stroke=\"black\" />\n",
       "<circle cx=\"41.98661006922703\" cy=\"-296.67717593962277\" r=\"15.0\" fill=\"blue\" stroke=\"black\" />\n",
       "<path d=\"M-10.013389930772973,-276.67717593962277 l30,30 l-30,0\" stroke=\"black\" fill=\"white\" />\n",
       "<path d=\"M-50.01338993077297,-216.67717593962277 A40,40,0,0,0,29.986610069227027,-216.67717593962277\" stroke=\"black\" fill=\"white\" />\n",
       "<circle cx=\"-17.48978394308233\" cy=\"-177.1031541301678\" r=\"100\" fill=\"white\" stroke=\"black\" />\n",
       "<circle cx=\"-57.48978394308233\" cy=\"-227.1031541301678\" r=\"30\" fill=\"white\" stroke=\"black\" />\n",
       "<circle cx=\"-45.48978394308233\" cy=\"-227.1031541301678\" r=\"15.0\" fill=\"blue\" stroke=\"black\" />\n",
       "<circle cx=\"22.51021605691767\" cy=\"-227.1031541301678\" r=\"30\" fill=\"white\" stroke=\"black\" />\n",
       "<circle cx=\"34.51021605691767\" cy=\"-227.1031541301678\" r=\"15.0\" fill=\"blue\" stroke=\"black\" />\n",
       "<path d=\"M-17.48978394308233,-207.1031541301678 l30,30 l-30,0\" stroke=\"black\" fill=\"white\" />\n",
       "<path d=\"M-57.48978394308233,-147.1031541301678 A40,40,0,0,0,22.51021605691767,-147.1031541301678\" stroke=\"black\" fill=\"white\" />\n",
       "<circle cx=\"-60.83881157367733\" cy=\"-29.19434848546092\" r=\"100\" fill=\"white\" stroke=\"black\" />\n",
       "<circle cx=\"-100.83881157367733\" cy=\"-79.19434848546092\" r=\"30\" fill=\"white\" stroke=\"black\" />\n",
       "<circle cx=\"-88.83881157367733\" cy=\"-79.19434848546092\" r=\"15.0\" fill=\"blue\" stroke=\"black\" />\n",
       "<circle cx=\"-20.838811573677333\" cy=\"-79.19434848546092\" r=\"30\" fill=\"white\" stroke=\"black\" />\n",
       "<circle cx=\"-8.838811573677333\" cy=\"-79.19434848546092\" r=\"15.0\" fill=\"blue\" stroke=\"black\" />\n",
       "<path d=\"M-60.83881157367733,-59.19434848546092 l30,30 l-30,0\" stroke=\"black\" fill=\"white\" />\n",
       "<path d=\"M-100.83881157367733,0.8056515145390741 A40,40,0,0,0,-20.838811573677333,0.805651514539079\" stroke=\"black\" fill=\"white\" />\n",
       "<circle cx=\"-172.00876592846342\" cy=\"284.7776173806958\" r=\"100\" fill=\"white\" stroke=\"black\" />\n",
       "<circle cx=\"-212.00876592846342\" cy=\"234.7776173806958\" r=\"30\" fill=\"white\" stroke=\"black\" />\n",
       "<circle cx=\"-200.00876592846342\" cy=\"234.7776173806958\" r=\"15.0\" fill=\"blue\" stroke=\"black\" />\n",
       "<circle cx=\"-132.00876592846342\" cy=\"234.7776173806958\" r=\"30\" fill=\"white\" stroke=\"black\" />\n",
       "<circle cx=\"-120.00876592846342\" cy=\"234.7776173806958\" r=\"15.0\" fill=\"blue\" stroke=\"black\" />\n",
       "<path d=\"M-172.00876592846342,254.7776173806958 l30,30 l-30,0\" stroke=\"black\" fill=\"white\" />\n",
       "<path d=\"M-212.00876592846342,314.7776173806958 A40,40,0,0,0,-132.00876592846342,314.7776173806958\" stroke=\"black\" fill=\"white\" />\n",
       "<circle cx=\"114.54335096644286\" cy=\"-100.60308750968755\" r=\"100\" fill=\"white\" stroke=\"black\" />\n",
       "<circle cx=\"74.54335096644286\" cy=\"-150.60308750968755\" r=\"30\" fill=\"white\" stroke=\"black\" />\n",
       "<circle cx=\"86.54335096644286\" cy=\"-150.60308750968755\" r=\"15.0\" fill=\"blue\" stroke=\"black\" />\n",
       "<circle cx=\"154.54335096644286\" cy=\"-150.60308750968755\" r=\"30\" fill=\"white\" stroke=\"black\" />\n",
       "<circle cx=\"166.54335096644286\" cy=\"-150.60308750968755\" r=\"15.0\" fill=\"blue\" stroke=\"black\" />\n",
       "<path d=\"M114.54335096644286,-130.60308750968755 l30,30 l-30,0\" stroke=\"black\" fill=\"white\" />\n",
       "<path d=\"M74.54335096644286,-70.60308750968755 A40,40,0,0,0,154.54335096644286,-70.60308750968755\" stroke=\"black\" fill=\"white\" />\n",
       "<circle cx=\"21.7949783551461\" cy=\"-163.073468569211\" r=\"100\" fill=\"white\" stroke=\"black\" />\n",
       "<circle cx=\"-18.2050216448539\" cy=\"-213.073468569211\" r=\"30\" fill=\"white\" stroke=\"black\" />\n",
       "<circle cx=\"-6.2050216448539\" cy=\"-213.073468569211\" r=\"15.0\" fill=\"blue\" stroke=\"black\" />\n",
       "<circle cx=\"61.7949783551461\" cy=\"-213.073468569211\" r=\"30\" fill=\"white\" stroke=\"black\" />\n",
       "<circle cx=\"73.7949783551461\" cy=\"-213.073468569211\" r=\"15.0\" fill=\"blue\" stroke=\"black\" />\n",
       "<path d=\"M21.7949783551461,-193.073468569211 l30,30 l-30,0\" stroke=\"black\" fill=\"white\" />\n",
       "<path d=\"M-18.2050216448539,-133.073468569211 A40,40,0,0,0,61.7949783551461,-133.073468569211\" stroke=\"black\" fill=\"white\" />\n",
       "<circle cx=\"-176.81662643550754\" cy=\"161.76309794548578\" r=\"100\" fill=\"white\" stroke=\"black\" />\n",
       "<circle cx=\"-216.81662643550754\" cy=\"111.76309794548578\" r=\"30\" fill=\"white\" stroke=\"black\" />\n",
       "<circle cx=\"-204.81662643550754\" cy=\"111.76309794548578\" r=\"15.0\" fill=\"blue\" stroke=\"black\" />\n",
       "<circle cx=\"-136.81662643550754\" cy=\"111.76309794548578\" r=\"30\" fill=\"white\" stroke=\"black\" />\n",
       "<circle cx=\"-124.81662643550754\" cy=\"111.76309794548578\" r=\"15.0\" fill=\"blue\" stroke=\"black\" />\n",
       "<path d=\"M-176.81662643550754,131.76309794548578 l30,30 l-30,0\" stroke=\"black\" fill=\"white\" />\n",
       "<path d=\"M-216.81662643550754,191.76309794548578 A40,40,0,0,0,-136.81662643550754,191.76309794548578\" stroke=\"black\" fill=\"white\" />\n",
       "<circle cx=\"-45.02016039963067\" cy=\"286.6062679698811\" r=\"100\" fill=\"white\" stroke=\"black\" />\n",
       "<circle cx=\"-85.02016039963067\" cy=\"236.60626796988112\" r=\"30\" fill=\"white\" stroke=\"black\" />\n",
       "<circle cx=\"-73.02016039963067\" cy=\"236.60626796988112\" r=\"15.0\" fill=\"blue\" stroke=\"black\" />\n",
       "<circle cx=\"-5.020160399630669\" cy=\"236.60626796988112\" r=\"30\" fill=\"white\" stroke=\"black\" />\n",
       "<circle cx=\"6.979839600369331\" cy=\"236.60626796988112\" r=\"15.0\" fill=\"blue\" stroke=\"black\" />\n",
       "<path d=\"M-45.02016039963067,256.6062679698811 l30,30 l-30,0\" stroke=\"black\" fill=\"white\" />\n",
       "<path d=\"M-85.02016039963067,316.6062679698811 A40,40,0,0,0,-5.020160399630669,316.6062679698811\" stroke=\"black\" fill=\"white\" />\n",
       "<circle cx=\"-241.65971536848366\" cy=\"49.61785667707491\" r=\"100\" fill=\"white\" stroke=\"black\" />\n",
       "<circle cx=\"-281.65971536848366\" cy=\"-0.38214332292508857\" r=\"30\" fill=\"white\" stroke=\"black\" />\n",
       "<circle cx=\"-269.65971536848366\" cy=\"-0.38214332292508857\" r=\"15.0\" fill=\"blue\" stroke=\"black\" />\n",
       "<circle cx=\"-201.65971536848366\" cy=\"-0.38214332292508857\" r=\"30\" fill=\"white\" stroke=\"black\" />\n",
       "<circle cx=\"-189.65971536848366\" cy=\"-0.38214332292508857\" r=\"15.0\" fill=\"blue\" stroke=\"black\" />\n",
       "<path d=\"M-241.65971536848366,19.61785667707491 l30,30 l-30,0\" stroke=\"black\" fill=\"white\" />\n",
       "<path d=\"M-281.65971536848366,79.61785667707491 A40,40,0,0,0,-201.65971536848366,79.61785667707491\" stroke=\"black\" fill=\"white\" />\n",
       "<circle cx=\"-227.46324543621438\" cy=\"183.00286351889338\" r=\"100\" fill=\"white\" stroke=\"black\" />\n",
       "<circle cx=\"-267.4632454362144\" cy=\"133.00286351889338\" r=\"30\" fill=\"white\" stroke=\"black\" />\n",
       "<circle cx=\"-255.46324543621438\" cy=\"133.00286351889338\" r=\"15.0\" fill=\"blue\" stroke=\"black\" />\n",
       "<circle cx=\"-187.46324543621438\" cy=\"133.00286351889338\" r=\"30\" fill=\"white\" stroke=\"black\" />\n",
       "<circle cx=\"-175.46324543621438\" cy=\"133.00286351889338\" r=\"15.0\" fill=\"blue\" stroke=\"black\" />\n",
       "<path d=\"M-227.46324543621438,153.00286351889338 l30,30 l-30,0\" stroke=\"black\" fill=\"white\" />\n",
       "<path d=\"M-267.4632454362144,213.00286351889338 A40,40,0,0,0,-187.46324543621438,213.00286351889338\" stroke=\"black\" fill=\"white\" />\n",
       "<circle cx=\"-43.271534947097734\" cy=\"-126.90680663689614\" r=\"100\" fill=\"white\" stroke=\"black\" />\n",
       "<circle cx=\"-83.27153494709773\" cy=\"-176.90680663689614\" r=\"30\" fill=\"white\" stroke=\"black\" />\n",
       "<circle cx=\"-71.27153494709773\" cy=\"-176.90680663689614\" r=\"15.0\" fill=\"blue\" stroke=\"black\" />\n",
       "<circle cx=\"-3.2715349470977344\" cy=\"-176.90680663689614\" r=\"30\" fill=\"white\" stroke=\"black\" />\n",
       "<circle cx=\"8.728465052902266\" cy=\"-176.90680663689614\" r=\"15.0\" fill=\"blue\" stroke=\"black\" />\n",
       "<path d=\"M-43.271534947097734,-156.90680663689614 l30,30 l-30,0\" stroke=\"black\" fill=\"white\" />\n",
       "<path d=\"M-83.27153494709773,-96.90680663689614 A40,40,0,0,0,-3.2715349470977344,-96.90680663689614\" stroke=\"black\" fill=\"white\" />\n",
       "<circle cx=\"-225.0976440452298\" cy=\"-182.4160792325922\" r=\"100\" fill=\"white\" stroke=\"black\" />\n",
       "<circle cx=\"-265.0976440452298\" cy=\"-232.4160792325922\" r=\"30\" fill=\"white\" stroke=\"black\" />\n",
       "<circle cx=\"-253.0976440452298\" cy=\"-232.4160792325922\" r=\"15.0\" fill=\"blue\" stroke=\"black\" />\n",
       "<circle cx=\"-185.0976440452298\" cy=\"-232.4160792325922\" r=\"30\" fill=\"white\" stroke=\"black\" />\n",
       "<circle cx=\"-173.0976440452298\" cy=\"-232.4160792325922\" r=\"15.0\" fill=\"blue\" stroke=\"black\" />\n",
       "<path d=\"M-225.0976440452298,-212.4160792325922 l30,30 l-30,0\" stroke=\"black\" fill=\"white\" />\n",
       "<path d=\"M-265.0976440452298,-152.4160792325922 A40,40,0,0,0,-185.0976440452298,-152.4160792325922\" stroke=\"black\" fill=\"white\" />\n",
       "<circle cx=\"231.93003012549877\" cy=\"-175.79709724470484\" r=\"100\" fill=\"white\" stroke=\"black\" />\n",
       "<circle cx=\"191.93003012549877\" cy=\"-225.79709724470484\" r=\"30\" fill=\"white\" stroke=\"black\" />\n",
       "<circle cx=\"203.93003012549877\" cy=\"-225.79709724470484\" r=\"15.0\" fill=\"blue\" stroke=\"black\" />\n",
       "<circle cx=\"271.9300301254988\" cy=\"-225.79709724470484\" r=\"30\" fill=\"white\" stroke=\"black\" />\n",
       "<circle cx=\"283.9300301254988\" cy=\"-225.79709724470484\" r=\"15.0\" fill=\"blue\" stroke=\"black\" />\n",
       "<path d=\"M231.93003012549877,-205.79709724470484 l30,30 l-30,0\" stroke=\"black\" fill=\"white\" />\n",
       "<path d=\"M191.93003012549877,-145.79709724470484 A40,40,0,0,0,271.9300301254988,-145.79709724470484\" stroke=\"black\" fill=\"white\" />\n",
       "<circle cx=\"-286.79061843289793\" cy=\"181.4796239164218\" r=\"100\" fill=\"white\" stroke=\"black\" />\n",
       "<circle cx=\"-326.79061843289793\" cy=\"131.4796239164218\" r=\"30\" fill=\"white\" stroke=\"black\" />\n",
       "<circle cx=\"-314.79061843289793\" cy=\"131.4796239164218\" r=\"15.0\" fill=\"blue\" stroke=\"black\" />\n",
       "<circle cx=\"-246.79061843289793\" cy=\"131.4796239164218\" r=\"30\" fill=\"white\" stroke=\"black\" />\n",
       "<circle cx=\"-234.79061843289793\" cy=\"131.4796239164218\" r=\"15.0\" fill=\"blue\" stroke=\"black\" />\n",
       "<path d=\"M-286.79061843289793,151.4796239164218 l30,30 l-30,0\" stroke=\"black\" fill=\"white\" />\n",
       "<path d=\"M-326.79061843289793,211.4796239164218 A40,40,0,0,0,-246.79061843289793,211.4796239164218\" stroke=\"black\" fill=\"white\" />\n",
       "<circle cx=\"-27.1505814442163\" cy=\"-145.00069781853642\" r=\"100\" fill=\"white\" stroke=\"black\" />\n",
       "<circle cx=\"-67.1505814442163\" cy=\"-195.00069781853642\" r=\"30\" fill=\"white\" stroke=\"black\" />\n",
       "<circle cx=\"-55.1505814442163\" cy=\"-195.00069781853642\" r=\"15.0\" fill=\"blue\" stroke=\"black\" />\n",
       "<circle cx=\"12.8494185557837\" cy=\"-195.00069781853642\" r=\"30\" fill=\"white\" stroke=\"black\" />\n",
       "<circle cx=\"24.8494185557837\" cy=\"-195.00069781853642\" r=\"15.0\" fill=\"blue\" stroke=\"black\" />\n",
       "<path d=\"M-27.1505814442163,-175.00069781853642 l30,30 l-30,0\" stroke=\"black\" fill=\"white\" />\n",
       "<path d=\"M-67.1505814442163,-115.00069781853642 A40,40,0,0,0,12.8494185557837,-115.00069781853642\" stroke=\"black\" fill=\"white\" />\n",
       "<circle cx=\"208.8959963607968\" cy=\"296.8542389673064\" r=\"100\" fill=\"white\" stroke=\"black\" />\n",
       "<circle cx=\"168.8959963607968\" cy=\"246.8542389673064\" r=\"30\" fill=\"white\" stroke=\"black\" />\n",
       "<circle cx=\"180.8959963607968\" cy=\"246.8542389673064\" r=\"15.0\" fill=\"blue\" stroke=\"black\" />\n",
       "<circle cx=\"248.8959963607968\" cy=\"246.8542389673064\" r=\"30\" fill=\"white\" stroke=\"black\" />\n",
       "<circle cx=\"260.8959963607968\" cy=\"246.8542389673064\" r=\"15.0\" fill=\"blue\" stroke=\"black\" />\n",
       "<path d=\"M208.8959963607968,266.8542389673064 l30,30 l-30,0\" stroke=\"black\" fill=\"white\" />\n",
       "<path d=\"M168.8959963607968,326.8542389673064 A40,40,0,0,0,248.8959963607968,326.8542389673064\" stroke=\"black\" fill=\"white\" />\n",
       "<circle cx=\"-156.55556761368544\" cy=\"235.66450990365968\" r=\"100\" fill=\"white\" stroke=\"black\" />\n",
       "<circle cx=\"-196.55556761368544\" cy=\"185.66450990365968\" r=\"30\" fill=\"white\" stroke=\"black\" />\n",
       "<circle cx=\"-184.55556761368544\" cy=\"185.66450990365968\" r=\"15.0\" fill=\"blue\" stroke=\"black\" />\n",
       "<circle cx=\"-116.55556761368544\" cy=\"185.66450990365968\" r=\"30\" fill=\"white\" stroke=\"black\" />\n",
       "<circle cx=\"-104.55556761368544\" cy=\"185.66450990365968\" r=\"15.0\" fill=\"blue\" stroke=\"black\" />\n",
       "<path d=\"M-156.55556761368544,205.66450990365968 l30,30 l-30,0\" stroke=\"black\" fill=\"white\" />\n",
       "<path d=\"M-196.55556761368544,265.6645099036597 A40,40,0,0,0,-116.55556761368544,265.6645099036597\" stroke=\"black\" fill=\"white\" />\n",
       "<circle cx=\"108.06477367027725\" cy=\"120.78361910710868\" r=\"100\" fill=\"white\" stroke=\"black\" />\n",
       "<circle cx=\"68.06477367027725\" cy=\"70.78361910710868\" r=\"30\" fill=\"white\" stroke=\"black\" />\n",
       "<circle cx=\"80.06477367027725\" cy=\"70.78361910710868\" r=\"15.0\" fill=\"blue\" stroke=\"black\" />\n",
       "<circle cx=\"148.06477367027725\" cy=\"70.78361910710868\" r=\"30\" fill=\"white\" stroke=\"black\" />\n",
       "<circle cx=\"160.06477367027725\" cy=\"70.78361910710868\" r=\"15.0\" fill=\"blue\" stroke=\"black\" />\n",
       "<path d=\"M108.06477367027725,90.78361910710868 l30,30 l-30,0\" stroke=\"black\" fill=\"white\" />\n",
       "<path d=\"M68.06477367027725,150.78361910710868 A40,40,0,0,0,148.06477367027725,150.78361910710868\" stroke=\"black\" fill=\"white\" />\n",
       "<circle cx=\"247.12895998858198\" cy=\"140.22894542964139\" r=\"100\" fill=\"white\" stroke=\"black\" />\n",
       "<circle cx=\"207.12895998858198\" cy=\"90.22894542964139\" r=\"30\" fill=\"white\" stroke=\"black\" />\n",
       "<circle cx=\"219.12895998858198\" cy=\"90.22894542964139\" r=\"15.0\" fill=\"blue\" stroke=\"black\" />\n",
       "<circle cx=\"287.128959988582\" cy=\"90.22894542964139\" r=\"30\" fill=\"white\" stroke=\"black\" />\n",
       "<circle cx=\"299.128959988582\" cy=\"90.22894542964139\" r=\"15.0\" fill=\"blue\" stroke=\"black\" />\n",
       "<path d=\"M247.12895998858198,110.22894542964139 l30,30 l-30,0\" stroke=\"black\" fill=\"white\" />\n",
       "<path d=\"M207.12895998858198,170.22894542964139 A40,40,0,0,0,287.128959988582,170.22894542964139\" stroke=\"black\" fill=\"white\" />\n",
       "<circle cx=\"-102.5686544678727\" cy=\"233.12322802693146\" r=\"100\" fill=\"white\" stroke=\"black\" />\n",
       "<circle cx=\"-142.5686544678727\" cy=\"183.12322802693146\" r=\"30\" fill=\"white\" stroke=\"black\" />\n",
       "<circle cx=\"-130.5686544678727\" cy=\"183.12322802693146\" r=\"15.0\" fill=\"blue\" stroke=\"black\" />\n",
       "<circle cx=\"-62.568654467872705\" cy=\"183.12322802693146\" r=\"30\" fill=\"white\" stroke=\"black\" />\n",
       "<circle cx=\"-50.568654467872705\" cy=\"183.12322802693146\" r=\"15.0\" fill=\"blue\" stroke=\"black\" />\n",
       "<path d=\"M-102.5686544678727,203.12322802693146 l30,30 l-30,0\" stroke=\"black\" fill=\"white\" />\n",
       "<path d=\"M-142.5686544678727,263.12322802693143 A40,40,0,0,0,-62.568654467872705,263.12322802693143\" stroke=\"black\" fill=\"white\" />\n",
       "<circle cx=\"239.56649003556424\" cy=\"-5.186361458331987\" r=\"100\" fill=\"white\" stroke=\"black\" />\n",
       "<circle cx=\"199.56649003556424\" cy=\"-55.18636145833199\" r=\"30\" fill=\"white\" stroke=\"black\" />\n",
       "<circle cx=\"211.56649003556424\" cy=\"-55.18636145833199\" r=\"15.0\" fill=\"blue\" stroke=\"black\" />\n",
       "<circle cx=\"279.56649003556424\" cy=\"-55.18636145833199\" r=\"30\" fill=\"white\" stroke=\"black\" />\n",
       "<circle cx=\"291.56649003556424\" cy=\"-55.18636145833199\" r=\"15.0\" fill=\"blue\" stroke=\"black\" />\n",
       "<path d=\"M239.56649003556424,-35.18636145833199 l30,30 l-30,0\" stroke=\"black\" fill=\"white\" />\n",
       "<path d=\"M199.56649003556424,24.81363854166801 A40,40,0,0,0,279.56649003556424,24.813638541668013\" stroke=\"black\" fill=\"white\" />\n",
       "<circle cx=\"207.18611236571462\" cy=\"-299.3691007877221\" r=\"100\" fill=\"white\" stroke=\"black\" />\n",
       "<circle cx=\"167.18611236571462\" cy=\"-349.3691007877221\" r=\"30\" fill=\"white\" stroke=\"black\" />\n",
       "<circle cx=\"179.18611236571462\" cy=\"-349.3691007877221\" r=\"15.0\" fill=\"blue\" stroke=\"black\" />\n",
       "<circle cx=\"247.18611236571462\" cy=\"-349.3691007877221\" r=\"30\" fill=\"white\" stroke=\"black\" />\n",
       "<circle cx=\"259.1861123657146\" cy=\"-349.3691007877221\" r=\"15.0\" fill=\"blue\" stroke=\"black\" />\n",
       "<path d=\"M207.18611236571462,-329.3691007877221 l30,30 l-30,0\" stroke=\"black\" fill=\"white\" />\n",
       "<path d=\"M167.18611236571462,-269.3691007877221 A40,40,0,0,0,247.18611236571462,-269.3691007877221\" stroke=\"black\" fill=\"white\" />\n",
       "</svg>"
      ],
      "text/plain": [
       "<drawSvg.drawing.Drawing at 0x253699eb668>"
      ]
     },
     "execution_count": 6,
     "metadata": {},
     "output_type": "execute_result"
    }
   ],
   "source": [
    "\n",
    "class Crowd:\n",
    "    def __init__(self, N):\n",
    "        self.N = N\n",
    "        self.the_crowd = []\n",
    "        for i in range( 0, N ):\n",
    "            self.the_crowd.append( Face(uniform(-300,300), uniform(-300,300), 100) )\n",
    "        #self.lookat()\n",
    "    \n",
    "    def lookat(self):\n",
    "        for i in range( 0, self.N ):\n",
    "            self.the_crowd[i].lookat( uniform(-5000,5000), uniform(-5000,5000) )\n",
    "            \n",
    "    def draw(self):\n",
    "        for i in range( 0, self.N ):\n",
    "            self.the_crowd[i].drawFace()\n",
    " \n",
    "  \n",
    "# draw crowd   \n",
    "D = draw.Drawing(800, 800, origin='center') # define drawing canvas\\n\",\n",
    "C = Crowd(35)\n",
    "C.draw()  \n",
    "D"
   ]
  },
  {
   "cell_type": "code",
   "execution_count": null,
   "metadata": {},
   "outputs": [],
   "source": []
  },
  {
   "cell_type": "code",
   "execution_count": null,
   "metadata": {},
   "outputs": [],
   "source": []
  },
  {
   "cell_type": "code",
   "execution_count": null,
   "metadata": {},
   "outputs": [],
   "source": []
  }
 ],
 "metadata": {
  "kernelspec": {
   "display_name": "Python 3",
   "language": "python",
   "name": "python3"
  },
  "language_info": {
   "codemirror_mode": {
    "name": "ipython",
    "version": 3
   },
   "file_extension": ".py",
   "mimetype": "text/x-python",
   "name": "python",
   "nbconvert_exporter": "python",
   "pygments_lexer": "ipython3",
   "version": "3.7.1"
  }
 },
 "nbformat": 4,
 "nbformat_minor": 2
}
