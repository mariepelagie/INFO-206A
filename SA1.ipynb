{
 "cells": [
  {
   "cell_type": "code",
   "execution_count": 1,
   "metadata": {},
   "outputs": [
    {
     "name": "stderr",
     "output_type": "stream",
     "text": [
      "C:\\Users\\mmoud\\Anaconda3\\lib\\site-packages\\drawSvg\\raster.py:11: RuntimeWarning: CairoSVG will need to be installed to rasterize images: Install with `pip3 install cairosvg`\n",
      "  warnings.warn(msg, RuntimeWarning)\n"
     ]
    }
   ],
   "source": [
    "import numpy as np\n",
    "import drawSvg as draw"
   ]
  },
  {
   "cell_type": "markdown",
   "metadata": {},
   "source": [
    "### Question 1: Write a Python program that prints out a logo containing your name. Feel free to create your own design."
   ]
  },
  {
   "cell_type": "code",
   "execution_count": 12,
   "metadata": {},
   "outputs": [],
   "source": [
    "def logo_builder(): #prints out logo of my first name and middle name, Marie Pelagie\n",
    "    print(\"*     ***** \")\n",
    "    print(\"**   *******\")\n",
    "    print(\"* * * ******\")\n",
    "    print(\"*  *  ***** \")\n",
    "    print(\"*     *     \")\n",
    "    print(\"*     *\",\"Marie Pelagie\")"
   ]
  },
  {
   "cell_type": "code",
   "execution_count": 13,
   "metadata": {},
   "outputs": [
    {
     "name": "stdout",
     "output_type": "stream",
     "text": [
      "*     ***** \n",
      "**   *******\n",
      "* * * ******\n",
      "*  *  ***** \n",
      "*     *     \n",
      "*     * Marie Pelagie\n"
     ]
    }
   ],
   "source": [
    "logo_builder()"
   ]
  },
  {
   "cell_type": "markdown",
   "metadata": {},
   "source": [
    "### Question 2:  Write a Python program that sketches (using the drawSvg library) your favorite logo. Your logo need not be overly complex, but should incorporate the use of at least five distinct library calls. For example, here is the official logo and my version for Eastman Kodak:"
   ]
  },
  {
   "cell_type": "code",
   "execution_count": 30,
   "metadata": {},
   "outputs": [
    {
     "data": {
      "image/svg+xml": [
       "<?xml version=\"1.0\" encoding=\"UTF-8\"?>\n",
       "<svg xmlns=\"http://www.w3.org/2000/svg\" xmlns:xlink=\"http://www.w3.org/1999/xlink\"\n",
       "     width=\"300\" height=\"300\" viewBox=\"-150.0 -150.0 300 300\">\n",
       "<defs>\n",
       "</defs>\n",
       "<circle cx=\"0\" cy=\"0\" r=\"90\" fill=\"red\" />\n",
       "<circle cx=\"0\" cy=\"0\" r=\"50\" fill=\"white\" />\n",
       "<circle cx=\"0\" cy=\"0\" r=\"30\" fill=\"red\" />\n",
       "<path d=\"M-30,-40 L-30,-90 L-50,-90 L-50,0\" fill=\"white\" stroke=\"white\" />\n",
       "</svg>"
      ],
      "text/plain": [
       "<drawSvg.drawing.Drawing at 0x27f491cf9b0>"
      ]
     },
     "execution_count": 30,
     "metadata": {},
     "output_type": "execute_result"
    }
   ],
   "source": [
    "#beats logo : https://www.pinterest.com/pin/454089574920183599/\n",
    "d = draw.Drawing(300, 300, origin='center')\n",
    "d.append(draw.Circle(0, 0, 90,\n",
    "            fill='red')) # outer red circle\n",
    "d.append(draw.Circle(0, 0, 50,\n",
    "            fill='white')) # middle ring by creating an intermediate white circle\n",
    "d.append(draw.Circle(0, 0, 30, \n",
    "            fill='red')) # inner most red circle. helps create the ring\n",
    "d.append(draw.Lines(-30, 40,\n",
    "                    -30,90,\n",
    "                    -50,90,\n",
    "                    -50,0,\n",
    "                    close=False,\n",
    "            fill='white',\n",
    "            stroke='white')) # white line strokes that form the b letter \n",
    "\n",
    "\n",
    "d\n"
   ]
  },
  {
   "cell_type": "code",
   "execution_count": 107,
   "metadata": {},
   "outputs": [
    {
     "data": {
      "image/svg+xml": [
       "<?xml version=\"1.0\" encoding=\"UTF-8\"?>\n",
       "<svg xmlns=\"http://www.w3.org/2000/svg\" xmlns:xlink=\"http://www.w3.org/1999/xlink\"\n",
       "     width=\"300\" height=\"300\" viewBox=\"-150.0 -150.0 300 300\">\n",
       "<defs>\n",
       "</defs>\n",
       "<circle cx=\"0\" cy=\"0\" r=\"90\" fill=\"white\" stroke-width=\"20\" stroke=\"black\" />\n",
       "<path d=\"M10,-90 L10,-5 L-7,-5 L-7,-90\" fill=\"black\" stroke=\"black\" />\n",
       "<rect x=\"-5\" y=\"-35\" width=\"95\" height=\"20\" fill=\"black\" />\n",
       "<rect x=\"-22\" y=\"4\" width=\"32\" height=\"19\" fill=\"black\" />\n",
       "<path d=\"M10,90 L10,5 L-7,5 L-7,90\" fill=\"black\" stroke=\"black\" />\n",
       "<rect x=\"10.5\" y=\"70\" width=\"8\" height=\"30\" fill=\"white\" />\n",
       "<rect x=\"-15.5\" y=\"-115\" width=\"8\" height=\"40\" fill=\"white\" />\n",
       "</svg>"
      ],
      "text/plain": [
       "<drawSvg.drawing.Drawing at 0x27f49181080>"
      ]
     },
     "execution_count": 107,
     "metadata": {},
     "output_type": "execute_result"
    }
   ],
   "source": [
    "# Giorgio Armani logo : https://www.google.com/search?q=Giorgio+Armani+Logo&tbm=isch&source=iu&ictx=1&fir=N_AuVYBY0WdJmM%253A%252Cc2WgchOx_FA99M%252C_&vet=1&usg=AI4_-kQlv58xh2ownUGfnB815bX5TN1ezw&sa=X&ved=2ahUKEwij0-X246jkAhVJqp4KHQ2xCUQQ9QEwCHoECAYQFA#imgrc=N_AuVYBY0WdJmM:&vet=1\n",
    "d = draw.Drawing(300, 300, origin='center')\n",
    "d.append(draw.Circle(0, 0, 90,\n",
    "            fill='white',stroke_width=20, stroke='black')) # outer white circle with black stroke\n",
    "\n",
    "d.append(draw.Lines(10, 90,\n",
    "                    10,5,\n",
    "                    -7,5,\n",
    "                    -7,90,\n",
    "                    close=False,\n",
    "            fill='black',\n",
    "            stroke='black')) # creates the top vertical black boxy structure\n",
    "d.append(draw.Rectangle(-5,15,95,20, fill='black')) # creates top horizontal line\n",
    "d.append(draw.Rectangle(-22,-23,32,19, fill='black')) #creates top of g\n",
    "\n",
    "d.append(draw.Lines(10, -90,\n",
    "                    10,-5,\n",
    "                    -7,-5,\n",
    "                    -7,-90,\n",
    "                    close=False,\n",
    "            fill='black',\n",
    "            stroke='black')) #creates botton horzontal\n",
    " #create white strokes on top and bottom\n",
    "d.append(draw.Rectangle(10.5,-100,8,30, fill='white')) \n",
    "d.append(draw.Rectangle(-15.5,75,8,40, fill='white')) \n",
    "\n",
    "d"
   ]
  },
  {
   "cell_type": "code",
   "execution_count": 6,
   "metadata": {},
   "outputs": [
    {
     "data": {
      "image/svg+xml": [
       "<?xml version=\"1.0\" encoding=\"UTF-8\"?>\n",
       "<svg xmlns=\"http://www.w3.org/2000/svg\" xmlns:xlink=\"http://www.w3.org/1999/xlink\"\n",
       "     width=\"300\" height=\"300\" viewBox=\"-150.0 -150.0 300 300\">\n",
       "<defs>\n",
       "</defs>\n",
       "<circle cx=\"0\" cy=\"0\" r=\"110\" fill=\"blue\" />\n",
       "<circle cx=\"0\" cy=\"0\" r=\"80\" fill=\"green\" />\n",
       "<circle cx=\"0\" cy=\"0\" r=\"50\" fill=\"red\" />\n",
       "</svg>"
      ],
      "text/plain": [
       "<drawSvg.drawing.Drawing at 0x258d1804d30>"
      ]
     },
     "execution_count": 6,
     "metadata": {},
     "output_type": "execute_result"
    }
   ],
   "source": [
    "# drill draw bull's eye \n",
    "d = draw.Drawing(300, 300, origin='center')\n",
    "s = 30 # variable that scales circle size\n",
    "\n",
    "d.append(draw.Circle(0, 0, 20+3*s,\n",
    "            fill='blue')) # outer blue circle\n",
    "d.append(draw.Circle(0, 0, 20+2*s,\n",
    "            fill='green')) # middle ring by creating an intermediate white circle\n",
    "\n",
    "d.append(draw.Circle(0, 0, 20+s,\n",
    "            fill='red')) #inner red circle \n",
    "\n",
    "d"
   ]
  },
  {
   "cell_type": "code",
   "execution_count": null,
   "metadata": {},
   "outputs": [],
   "source": []
  }
 ],
 "metadata": {
  "kernelspec": {
   "display_name": "Python 3",
   "language": "python",
   "name": "python3"
  },
  "language_info": {
   "codemirror_mode": {
    "name": "ipython",
    "version": 3
   },
   "file_extension": ".py",
   "mimetype": "text/x-python",
   "name": "python",
   "nbconvert_exporter": "python",
   "pygments_lexer": "ipython3",
   "version": "3.7.1"
  }
 },
 "nbformat": 4,
 "nbformat_minor": 2
}
