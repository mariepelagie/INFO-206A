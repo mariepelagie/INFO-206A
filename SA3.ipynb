{
 "cells": [
  {
   "cell_type": "code",
   "execution_count": null,
   "metadata": {},
   "outputs": [],
   "source": [
    "#Write a Python function that takes as input a plain-text filename \n",
    "#and returns the number of lines, words, and characters in the file. \n",
    "#Your main code should call this function and print the returned three values \n",
    "#in a nicely formatted ouput like:10 lines; 100 words; 1000 characters.\n"
   ]
  },
  {
   "cell_type": "code",
   "execution_count": 2,
   "metadata": {},
   "outputs": [
    {
     "name": "stdout",
     "output_type": "stream",
     "text": [
      "133 lines; 1749 words: 6833 characters.\n"
     ]
    }
   ],
   "source": [
    "with open('DOI.txt','r') as DOI_file:\n",
    "    num_lines = 0 #initialise counter for number of lines\n",
    "    num_words = 0 #initialise counter for number of words\n",
    "    num_chars = 0 #initialise counter for number of characters\n",
    "    for line in DOI_file: #iterate on each line of file\n",
    "        num_lines+=1 \n",
    "        words = line.split(' ') # split along empty spaces to create list of words\n",
    "        # ignore the \\n(new line) tagged at the end of last word. should not affect number count\n",
    "        num_words += len(words)\n",
    "        #Assume that empty spaces are not counted in number of Characters\n",
    "        for w in words: # ierate along each word to count bumber of characters\n",
    "            num_chars += len(w)\n",
    "    print(str(num_lines)+\" lines; \" + str(num_words)+ \" words: \" + str(num_chars)+ \" characters.\")\n",
    "        "
   ]
  },
  {
   "cell_type": "code",
   "execution_count": null,
   "metadata": {},
   "outputs": [],
   "source": []
  }
 ],
 "metadata": {
  "kernelspec": {
   "display_name": "Python 3",
   "language": "python",
   "name": "python3"
  },
  "language_info": {
   "codemirror_mode": {
    "name": "ipython",
    "version": 3
   },
   "file_extension": ".py",
   "mimetype": "text/x-python",
   "name": "python",
   "nbconvert_exporter": "python",
   "pygments_lexer": "ipython3",
   "version": "3.7.1"
  }
 },
 "nbformat": 4,
 "nbformat_minor": 2
}
