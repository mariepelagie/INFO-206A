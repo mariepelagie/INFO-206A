{
 "cells": [
  {
   "cell_type": "code",
   "execution_count": null,
   "metadata": {},
   "outputs": [],
   "source": [
    "import drawSvg as draw\n",
    "import math\n",
    "from random import uniform"
   ]
  },
  {
   "cell_type": "code",
   "execution_count": null,
   "metadata": {},
   "outputs": [],
   "source": [
    "# Eye class\n",
    "class Eye:\n",
    "    def __init__(self, x, y, rad, color='blue'):\n",
    "        # eye position and size\n",
    "        self.x = x\n",
    "        self.y = y\n",
    "        self.rad = rad\n",
    "        \n",
    "        # eye gaze direction\n",
    "        self.direction = 0 # not passed in\n",
    "\n",
    "        # eye color\n",
    "        self.color = color\n",
    "        \n",
    "    def lookat(self, lx, ly):\n",
    "        self.direction = math.atan2(ly-self.y, lx-self.x) # move eye to look at (lx,ly)\n",
    "\n",
    "    def drawEye(self):\n",
    "        # draw outer circle\n",
    "        D.append(draw.Circle(self.x, self.y, self.rad, fill='white', stroke='black'))\n",
    "        \n",
    "        # draw inner circle\n",
    "        ix = 0.4 * self.rad * math.cos(self.direction) + self.x\n",
    "        iy = 0.4 * self.rad * math.sin(self.direction) + self.y\n",
    "        D.append(draw.Circle(ix, iy, 0.5*self.rad, fill=self.color, stroke='black'))"
   ]
  },
  {
   "cell_type": "code",
   "execution_count": null,
   "metadata": {},
   "outputs": [],
   "source": [
    "# Face class\n",
    "class Face:\n",
    "    def __init__(self, x, y, size):\n",
    "        # face position and size\n",
    "        self.x = x\n",
    "        self.y = y\n",
    "        self.size = size\n",
    "        \n",
    "        # create eyes\n",
    "        self.lefteye = Eye( x-40, y+50, 30 )\n",
    "        self.righteye = Eye( x+40, y+50, 30 )\n",
    "        \n",
    "    def lookat(self, lx, ly):\n",
    "        self.lefteye.lookat( lx, ly )\n",
    "        self.righteye.lookat( lx, ly )\n",
    "       \n",
    "    def drawFace(self):\n",
    "        # draw face\n",
    "        D.append(draw.Circle(self.x, self.y, self.size, fill='white', stroke='black'))\n",
    "\n",
    "        # draw eyes\n",
    "        self.lefteye.drawEye()\n",
    "        self.righteye.drawEye()\n",
    "        \n",
    "        # draw nose\n",
    "        p = draw.Path(stroke='black', fill='white')\n",
    "        p.M(self.x+0,self.y+30)   # Start path \n",
    "        p.l(30,-30) # Draw line to next point\n",
    "        p.l(-30,0)  # Draw line to next point\n",
    "        D.append(p)\n",
    "\n",
    "        # draw mouth\n",
    "        D.append(draw.Arc(self.x+0,self.y-30,40,180,0, stroke='black', fill='white'))\n"
   ]
  },
  {
   "cell_type": "code",
   "execution_count": null,
   "metadata": {},
   "outputs": [],
   "source": [
    "# Crowd class \n",
    "class Crowd:\n",
    "    def __init__(self, N):\n",
    "        self.N = N\n",
    "        \n",
    "        self.the_crowd = []\n",
    "        for i in range( 0, N ):\n",
    "            self.the_crowd.append( Face(uniform(-300,300), uniform(-300,300), 100) )\n",
    "            \n",
    "        self.lookat()\n",
    "        \n",
    "    def lookat(self):\n",
    "        for i in range( 0, self.N ):\n",
    "            self.the_crowd[i].lookat( uniform(-5000,5000), uniform(-5000,5000) )\n",
    "\n",
    "    def draw(self):\n",
    "        for i in range( 0, self.N ):\n",
    "            self.the_crowd[i].drawFace()\n"
   ]
  },
  {
   "cell_type": "code",
   "execution_count": null,
   "metadata": {},
   "outputs": [],
   "source": [
    "# draw crowd    \n",
    "D = draw.Drawing(800, 800, origin='center') # define drawing canvas\n",
    "C = Crowd(25)\n",
    "C.draw()   \n",
    "D"
   ]
  },
  {
   "cell_type": "code",
   "execution_count": null,
   "metadata": {},
   "outputs": [],
   "source": []
  }
 ],
 "metadata": {
  "kernelspec": {
   "display_name": "Python 3",
   "language": "python",
   "name": "python3"
  },
  "language_info": {
   "codemirror_mode": {
    "name": "ipython",
    "version": 3
   },
   "file_extension": ".py",
   "mimetype": "text/x-python",
   "name": "python",
   "nbconvert_exporter": "python",
   "pygments_lexer": "ipython3",
   "version": "3.7.0"
  }
 },
 "nbformat": 4,
 "nbformat_minor": 2
}
