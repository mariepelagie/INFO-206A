{
 "cells": [
  {
   "cell_type": "code",
   "execution_count": 1,
   "metadata": {},
   "outputs": [
    {
     "name": "stderr",
     "output_type": "stream",
     "text": [
      "C:\\Users\\mmoud\\Anaconda3\\lib\\site-packages\\drawSvg\\raster.py:11: RuntimeWarning: CairoSVG will need to be installed to rasterize images: Install with `pip3 install cairosvg`\n",
      "  warnings.warn(msg, RuntimeWarning)\n"
     ]
    }
   ],
   "source": [
    "import numpy as np\n",
    "import drawSvg as draw"
   ]
  },
  {
   "cell_type": "markdown",
   "metadata": {},
   "source": [
    "Body Class"
   ]
  },
  {
   "cell_type": "code",
   "execution_count": 2,
   "metadata": {},
   "outputs": [],
   "source": [
    "class Body:\n",
    "    def __init__(self,mass, x,y, vx,vy, pixel_radius, r,g,b):\n",
    "        self.mass = mass\n",
    "        self.x = x\n",
    "        self.y = y\n",
    "        self.vx = vx\n",
    "        self.vy = vy\n",
    "        #radius\n",
    "        self.rad_pixel = pixel_radius\n",
    "        #define color\n",
    "        self.color = '#%02x%02x%02x' % (r,g,b)\n",
    "        \n",
    "    def get_mass(self):\n",
    "        return self.mass\n",
    "    \n",
    "    def get_x(self):\n",
    "        return self.x\n",
    "    def get_vx(self):\n",
    "        return self.vx\n",
    "  \n",
    "    def get_y(self):\n",
    "        return self.y\n",
    "    def get_vy(self):\n",
    "        return self.vy\n",
    "    \n",
    "    def update_position(self, timestep):\n",
    "        self.x = self.x + timestep * self.vx\n",
    "        self.y = self.y + timestep * self.vy\n",
    "        \n",
    "    def update_velocity(self, ax, ay, timestep):\n",
    "        self.vx = self.vx + timestep * ax\n",
    "        self.vy = self.vy + timestep * ay\n",
    "        \n",
    "    def draw(self, pixels_per_meter):\n",
    "        # draw circle\n",
    "        x_pixel = self.x*pixels_per_meter\n",
    "        y_pixel = self.y*pixels_per_meter\n",
    "        D.append(draw.Circle(x_pixel, y_pixel, self.rad_pixel, fill=self.color))\n",
    "        \n",
    "        \n",
    "        \n",
    "        \n",
    "    "
   ]
  },
  {
   "cell_type": "code",
   "execution_count": 3,
   "metadata": {},
   "outputs": [],
   "source": [
    "## driver code\n",
    "G = 6.67384*(10**(-11))\n",
    "AU = 1.49598e11 # number of meters per astronomical unit\n",
    "EM = 5.9736e24  # mass of the Earth in kilograms\n",
    "\n",
    "TIME_SCALE = 3.0e6              # how many real seconds for each second of simulation\n",
    "PIXELS_PER_METER = 120. / AU    # distance scale for the simulation\n",
    "\n",
    "FRAME_RATE = 30\n",
    "TIMESTEP = 1.0 / FRAME_RATE\n",
    "\n",
    "# Solar system data comes from\n",
    "#   http://hyperphysics.phy-astr.gsu.edu/hbase/solar/soldata2.html\n",
    "sun     = Body(1.98892e30, 0, 0, 0, 0, 15, 255, 255, 0)\n",
    "mercury = Body(.06 * EM, -.3871 * AU, 0, 0, 47890, 3, 255, 102, 0)\n"
   ]
  },
  {
   "cell_type": "code",
   "execution_count": 4,
   "metadata": {},
   "outputs": [
    {
     "name": "stdout",
     "output_type": "stream",
     "text": [
      "Sun x coord, y coord and mass\n",
      "0 0 1.98892e+30\n",
      "Sun vx coord, vy coord \n",
      "0 0\n",
      "Sun x coord, y coord and mass\n",
      "0.0 0.0 1.98892e+30\n",
      "Sun vx coord, vy coord \n",
      "0.0 0\n"
     ]
    }
   ],
   "source": [
    "print('Sun x coord, y coord and mass')\n",
    "print(sun.get_x(),sun.get_y(),sun.get_mass())\n",
    "print('Sun vx coord, vy coord ')\n",
    "print(sun.get_vx(),sun.get_vy())\n",
    "sun.update_position(TIMESTEP)\n",
    "sun.update_velocity(TIMESTEP,0,0)\n",
    "print('Sun x coord, y coord and mass')\n",
    "print(sun.get_x(),sun.get_y(),sun.get_mass())\n",
    "print('Sun vx coord, vy coord ')\n",
    "print(sun.get_vx(),sun.get_vy())"
   ]
  },
  {
   "cell_type": "code",
   "execution_count": 5,
   "metadata": {},
   "outputs": [
    {
     "name": "stdout",
     "output_type": "stream",
     "text": [
      "mercury x coord, y coord and mass\n",
      "-57909385800.0 0 3.5841599999999996e+23\n",
      "mercury vx coord, vy coord \n",
      "0 47890\n",
      "mercury x coord, y coord and mass\n",
      "-57909385800.0 1596333333.3333335 3.5841599999999996e+23\n",
      "mercury vx coord, vy coord \n",
      "33333.333333333336 47889.7\n"
     ]
    }
   ],
   "source": [
    "print('mercury x coord, y coord and mass')\n",
    "print(mercury.get_x(),mercury.get_y(),mercury.get_mass())\n",
    "print('mercury vx coord, vy coord ')\n",
    "print(mercury.get_vx(),mercury.get_vy())\n",
    "mercury.update_position(1000000*TIMESTEP)\n",
    "mercury.update_velocity(1000000*TIMESTEP,-0.3,1)\n",
    "print('mercury x coord, y coord and mass')\n",
    "print(mercury.get_x(),mercury.get_y(),mercury.get_mass())\n",
    "print('mercury vx coord, vy coord ')\n",
    "print(mercury.get_vx(),mercury.get_vy())"
   ]
  },
  {
   "cell_type": "markdown",
   "metadata": {},
   "source": [
    "System Class"
   ]
  },
  {
   "cell_type": "code",
   "execution_count": 6,
   "metadata": {},
   "outputs": [],
   "source": [
    "class System:\n",
    "    def __init__(self, body_list):\n",
    "        self.body_list = body_list\n",
    "    \n",
    "    def compute_acceleration(self,index):\n",
    "        ax = 0\n",
    "        ay = 0\n",
    "        for i in range(len(self.body_list)):\n",
    "            if i == index :\n",
    "                ax += 0 \n",
    "                ay += 0\n",
    "            else:    \n",
    "                d_x = self.body_list[i].get_x() - self.body_list[index].get_x()\n",
    "                d_y = self.body_list[i].get_y() - self.body_list[index].get_y()\n",
    "                dist = np.sqrt((d_x**2) + (d_y**2))\n",
    "                a = G * self.body_list[i].get_mass()/(dist**2)\n",
    "                ax += a*d_x/ dist \n",
    "                ay += a*d_y/ dist\n",
    "            return (ax,ay)\n",
    "            \n",
    "            \n",
    "        \n",
    "    def update(self, timestep):\n",
    "        for n in range(len(self.body_list)):\n",
    "            \n",
    "            self.body_list[n].update_position(timestep)\n",
    "            \n",
    "            ax,ay = self.compute_acceleration(n)\n",
    "#             ax=0\n",
    "#             ay=0\n",
    "            #print(ax,ay)\n",
    "            self.body_list[n].update_velocity(ax, ay,timestep)\n",
    "#             print(self.body_list[n].get_x())\n",
    "            \n",
    "    def draw(self, pixels_per_meter):\n",
    "        for n in range(len(self.body_list)):\n",
    "            self.body_list[n].draw(pixels_per_meter)\n",
    "           \n",
    "        \n",
    "        "
   ]
  },
  {
   "cell_type": "code",
   "execution_count": 7,
   "metadata": {},
   "outputs": [],
   "source": [
    "G = 6.67384*(10**(-11))\n",
    "AU = 1.49598e11 # number of meters per astronomical unit\n",
    "EM = 5.9736e24  # mass of the Earth in kilograms\n",
    "\n",
    "TIME_SCALE = 3.0e6              # how many real seconds for each second of simulation\n",
    "PIXELS_PER_METER = 120. / AU    # distance scale for the simulation\n",
    "\n",
    "FRAME_RATE = 30\n",
    "TIMESTEP = 1.0 / FRAME_RATE\n",
    "\n",
    "# Solar system data comes from\n",
    "#   http://hyperphysics.phy-astr.gsu.edu/hbase/solar/soldata2.html\n",
    "sun     = Body(1.98892e30, 0, 0, 0, 0, 15, 255, 255, 0)\n",
    "mercury = Body(.06 * EM, -.3871 * AU, 0, 0, 47890, 3, 255, 102, 0)\n",
    "venus   = Body(.82 * EM, -.7233 * AU, 0, 0, 35040, 6, 0, 153, 51)\n",
    "earth   = Body(1.0 * EM, -1.0 * AU, 0, 0, 29790, 7, 0, 102, 255)\n",
    "mars    = Body(.11 * EM, -1.524 * AU, 0, 0, 24140, 4, 204, 51, 0)\n",
    "\n",
    "solar_system = System([sun, mercury, venus, earth, mars])\n",
    "\n"
   ]
  },
  {
   "cell_type": "code",
   "execution_count": 8,
   "metadata": {},
   "outputs": [],
   "source": [
    "\n",
    "def draw_frame():\n",
    "    solar_system.draw(PIXELS_PER_METER)\n",
    "    solar_system.update(TIMESTEP * TIME_SCALE)\n",
    "    return( D )\n",
    "\n"
   ]
  },
  {
   "cell_type": "code",
   "execution_count": 9,
   "metadata": {},
   "outputs": [
    {
     "data": {
      "image/svg+xml": [
       "<?xml version=\"1.0\" encoding=\"UTF-8\"?>\n",
       "<svg xmlns=\"http://www.w3.org/2000/svg\" xmlns:xlink=\"http://www.w3.org/1999/xlink\"\n",
       "     width=\"600\" height=\"600\" viewBox=\"-300.0 -300.0 600 600\">\n",
       "<defs>\n",
       "</defs>\n",
       "<rect x=\"-300\" y=\"-300\" width=\"600\" height=\"600\" fill=\"black\" />\n",
       "<circle cx=\"0.0\" cy=\"-0.0\" r=\"15\" fill=\"#ffff00\" />\n",
       "<circle cx=\"-47.8478186683946\" cy=\"2.706966362453572\" r=\"3\" fill=\"#ff6600\" />\n",
       "<circle cx=\"-18.978422722515514\" cy=\"-86.22391503513765\" r=\"6\" fill=\"#009933\" />\n",
       "<circle cx=\"-68.99327047714716\" cy=\"97.02719194779824\" r=\"7\" fill=\"#0066ff\" />\n",
       "<circle cx=\"177.86754527843632\" cy=\"42.979664121627934\" r=\"4\" fill=\"#cc3300\" />\n",
       "</svg>"
      ],
      "text/plain": [
       "<drawSvg.drawing.Drawing at 0x2080e4fb9b0>"
      ]
     },
     "metadata": {},
     "output_type": "display_data"
    },
    {
     "ename": "KeyboardInterrupt",
     "evalue": "",
     "output_type": "error",
     "traceback": [
      "\u001b[1;31m---------------------------------------------------------------------------\u001b[0m",
      "\u001b[1;31mKeyboardInterrupt\u001b[0m                         Traceback (most recent call last)",
      "\u001b[1;32m<ipython-input-9-afd1cf25aa04>\u001b[0m in \u001b[0;36m<module>\u001b[1;34m\u001b[0m\n\u001b[0;32m      4\u001b[0m         \u001b[0mD\u001b[0m \u001b[1;33m=\u001b[0m \u001b[0mdraw\u001b[0m\u001b[1;33m.\u001b[0m\u001b[0mDrawing\u001b[0m\u001b[1;33m(\u001b[0m\u001b[1;36m600\u001b[0m\u001b[1;33m,\u001b[0m \u001b[1;36m600\u001b[0m\u001b[1;33m,\u001b[0m \u001b[0morigin\u001b[0m\u001b[1;33m=\u001b[0m\u001b[1;34m'center'\u001b[0m\u001b[1;33m)\u001b[0m \u001b[1;31m# clear canvas\u001b[0m\u001b[1;33m\u001b[0m\u001b[1;33m\u001b[0m\u001b[0m\n\u001b[0;32m      5\u001b[0m         \u001b[0mD\u001b[0m\u001b[1;33m.\u001b[0m\u001b[0mappend\u001b[0m\u001b[1;33m(\u001b[0m \u001b[0mdraw\u001b[0m\u001b[1;33m.\u001b[0m\u001b[0mRectangle\u001b[0m\u001b[1;33m(\u001b[0m\u001b[1;33m-\u001b[0m\u001b[1;36m300\u001b[0m\u001b[1;33m,\u001b[0m\u001b[1;33m-\u001b[0m\u001b[1;36m300\u001b[0m\u001b[1;33m,\u001b[0m\u001b[1;36m600\u001b[0m\u001b[1;33m,\u001b[0m\u001b[1;36m600\u001b[0m\u001b[1;33m,\u001b[0m\u001b[0mfill\u001b[0m\u001b[1;33m=\u001b[0m\u001b[1;34m'black'\u001b[0m\u001b[1;33m)\u001b[0m\u001b[1;33m)\u001b[0m \u001b[1;31m# black background\u001b[0m\u001b[1;33m\u001b[0m\u001b[1;33m\u001b[0m\u001b[0m\n\u001b[1;32m----> 6\u001b[1;33m         \u001b[0manim\u001b[0m\u001b[1;33m.\u001b[0m\u001b[0mdraw_frame\u001b[0m\u001b[1;33m(\u001b[0m\u001b[1;33m)\u001b[0m\u001b[1;33m\u001b[0m\u001b[1;33m\u001b[0m\u001b[0m\n\u001b[0m\u001b[0;32m      7\u001b[0m         \u001b[1;31m#t+=1\u001b[0m\u001b[1;33m\u001b[0m\u001b[1;33m\u001b[0m\u001b[1;33m\u001b[0m\u001b[0m\n\u001b[0;32m      8\u001b[0m \u001b[1;33m\u001b[0m\u001b[0m\n",
      "\u001b[1;32m~\\Anaconda3\\lib\\site-packages\\drawSvg\\animation.py\u001b[0m in \u001b[0;36mdraw_frame\u001b[1;34m(self, *args, **kwargs)\u001b[0m\n\u001b[0;32m     20\u001b[0m     \u001b[1;32mdef\u001b[0m \u001b[0mdraw_frame\u001b[0m\u001b[1;33m(\u001b[0m\u001b[0mself\u001b[0m\u001b[1;33m,\u001b[0m \u001b[1;33m*\u001b[0m\u001b[0margs\u001b[0m\u001b[1;33m,\u001b[0m \u001b[1;33m**\u001b[0m\u001b[0mkwargs\u001b[0m\u001b[1;33m)\u001b[0m\u001b[1;33m:\u001b[0m\u001b[1;33m\u001b[0m\u001b[1;33m\u001b[0m\u001b[0m\n\u001b[0;32m     21\u001b[0m         \u001b[0mframe\u001b[0m \u001b[1;33m=\u001b[0m \u001b[0mself\u001b[0m\u001b[1;33m.\u001b[0m\u001b[0mdraw_func\u001b[0m\u001b[1;33m(\u001b[0m\u001b[1;33m*\u001b[0m\u001b[0margs\u001b[0m\u001b[1;33m,\u001b[0m \u001b[1;33m**\u001b[0m\u001b[0mkwargs\u001b[0m\u001b[1;33m)\u001b[0m\u001b[1;33m\u001b[0m\u001b[1;33m\u001b[0m\u001b[0m\n\u001b[1;32m---> 22\u001b[1;33m         \u001b[0mself\u001b[0m\u001b[1;33m.\u001b[0m\u001b[0mappend_frame\u001b[0m\u001b[1;33m(\u001b[0m\u001b[0mframe\u001b[0m\u001b[1;33m)\u001b[0m\u001b[1;33m\u001b[0m\u001b[1;33m\u001b[0m\u001b[0m\n\u001b[0m\u001b[0;32m     23\u001b[0m         \u001b[1;32mreturn\u001b[0m \u001b[0mframe\u001b[0m\u001b[1;33m\u001b[0m\u001b[1;33m\u001b[0m\u001b[0m\n\u001b[0;32m     24\u001b[0m \u001b[1;33m\u001b[0m\u001b[0m\n",
      "\u001b[1;32m~\\Anaconda3\\lib\\site-packages\\drawSvg\\animation.py\u001b[0m in \u001b[0;36mappend_frame\u001b[1;34m(self, frame)\u001b[0m\n\u001b[0;32m     16\u001b[0m     \u001b[1;32mdef\u001b[0m \u001b[0mappend_frame\u001b[0m\u001b[1;33m(\u001b[0m\u001b[0mself\u001b[0m\u001b[1;33m,\u001b[0m \u001b[0mframe\u001b[0m\u001b[1;33m)\u001b[0m\u001b[1;33m:\u001b[0m\u001b[1;33m\u001b[0m\u001b[1;33m\u001b[0m\u001b[0m\n\u001b[0;32m     17\u001b[0m         \u001b[0mself\u001b[0m\u001b[1;33m.\u001b[0m\u001b[0mframes\u001b[0m\u001b[1;33m.\u001b[0m\u001b[0mappend\u001b[0m\u001b[1;33m(\u001b[0m\u001b[0mframe\u001b[0m\u001b[1;33m)\u001b[0m\u001b[1;33m\u001b[0m\u001b[1;33m\u001b[0m\u001b[0m\n\u001b[1;32m---> 18\u001b[1;33m         \u001b[0mself\u001b[0m\u001b[1;33m.\u001b[0m\u001b[0mcallback\u001b[0m\u001b[1;33m(\u001b[0m\u001b[0mframe\u001b[0m\u001b[1;33m)\u001b[0m\u001b[1;33m\u001b[0m\u001b[1;33m\u001b[0m\u001b[0m\n\u001b[0m\u001b[0;32m     19\u001b[0m \u001b[1;33m\u001b[0m\u001b[0m\n\u001b[0;32m     20\u001b[0m     \u001b[1;32mdef\u001b[0m \u001b[0mdraw_frame\u001b[0m\u001b[1;33m(\u001b[0m\u001b[0mself\u001b[0m\u001b[1;33m,\u001b[0m \u001b[1;33m*\u001b[0m\u001b[0margs\u001b[0m\u001b[1;33m,\u001b[0m \u001b[1;33m**\u001b[0m\u001b[0mkwargs\u001b[0m\u001b[1;33m)\u001b[0m\u001b[1;33m:\u001b[0m\u001b[1;33m\u001b[0m\u001b[1;33m\u001b[0m\u001b[0m\n",
      "\u001b[1;32m~\\Anaconda3\\lib\\site-packages\\drawSvg\\animation.py\u001b[0m in \u001b[0;36mdraw_jupyter_frame\u001b[1;34m(self, frame)\u001b[0m\n\u001b[0;32m     59\u001b[0m             \u001b[0minput\u001b[0m\u001b[1;33m(\u001b[0m\u001b[1;34m'Next?'\u001b[0m\u001b[1;33m)\u001b[0m\u001b[1;33m\u001b[0m\u001b[1;33m\u001b[0m\u001b[0m\n\u001b[0;32m     60\u001b[0m         \u001b[1;32melif\u001b[0m \u001b[0mself\u001b[0m\u001b[1;33m.\u001b[0m\u001b[0mdelay\u001b[0m \u001b[1;33m!=\u001b[0m \u001b[1;36m0\u001b[0m\u001b[1;33m:\u001b[0m\u001b[1;33m\u001b[0m\u001b[1;33m\u001b[0m\u001b[0m\n\u001b[1;32m---> 61\u001b[1;33m             \u001b[0mtime\u001b[0m\u001b[1;33m.\u001b[0m\u001b[0msleep\u001b[0m\u001b[1;33m(\u001b[0m\u001b[0mself\u001b[0m\u001b[1;33m.\u001b[0m\u001b[0mdelay\u001b[0m\u001b[1;33m)\u001b[0m\u001b[1;33m\u001b[0m\u001b[1;33m\u001b[0m\u001b[0m\n\u001b[0m\u001b[0;32m     62\u001b[0m \u001b[1;33m\u001b[0m\u001b[0m\n\u001b[0;32m     63\u001b[0m     \u001b[1;32mdef\u001b[0m \u001b[0m__enter__\u001b[0m\u001b[1;33m(\u001b[0m\u001b[0mself\u001b[0m\u001b[1;33m)\u001b[0m\u001b[1;33m:\u001b[0m\u001b[1;33m\u001b[0m\u001b[1;33m\u001b[0m\u001b[0m\n",
      "\u001b[1;31mKeyboardInterrupt\u001b[0m: "
     ]
    }
   ],
   "source": [
    "with draw.animate_jupyter(draw_frame, delay=0.05) as anim:\n",
    "    t=0\n",
    "    while ( True ):#t<200: #\n",
    "        D = draw.Drawing(600, 600, origin='center') # clear canvas\n",
    "        D.append( draw.Rectangle(-300,-300,600,600,fill='black')) # black background\n",
    "        anim.draw_frame()\n",
    "        #t+=1\n",
    "\n"
   ]
  },
  {
   "cell_type": "code",
   "execution_count": null,
   "metadata": {},
   "outputs": [],
   "source": [
    "# for n in [sun, mercury, venus, earth, mars]:\n",
    "#     print(n.get_x(), n.get_y())\n",
    "#     print(n.get_vx(), n.get_vy())\n",
    "    \n",
    "# D = draw.Drawing(600, 600, origin='center')            \n",
    "# draw_frame()\n",
    "solar_system.update(TIMESTEP * TIME_SCALE)\n",
    "\n"
   ]
  },
  {
   "cell_type": "code",
   "execution_count": null,
   "metadata": {},
   "outputs": [],
   "source": []
  },
  {
   "cell_type": "code",
   "execution_count": null,
   "metadata": {},
   "outputs": [],
   "source": []
  }
 ],
 "metadata": {
  "kernelspec": {
   "display_name": "Python 3",
   "language": "python",
   "name": "python3"
  },
  "language_info": {
   "codemirror_mode": {
    "name": "ipython",
    "version": 3
   },
   "file_extension": ".py",
   "mimetype": "text/x-python",
   "name": "python",
   "nbconvert_exporter": "python",
   "pygments_lexer": "ipython3",
   "version": "3.7.1"
  }
 },
 "nbformat": 4,
 "nbformat_minor": 2
}
